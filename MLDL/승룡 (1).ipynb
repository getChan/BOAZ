{
 "cells": [
  {
   "cell_type": "markdown",
   "metadata": {},
   "source": [
    "# BOAZ ML/DL ( 분석 12기 )\n",
    "\n",
    "Data : 2019.03.28.Thur  \n",
    "Author : 성민석,김아영,조문기,유승룡,남궁찬\n",
    "\n",
    "해당 자료는 [Minsuk Heo](https://github.com/minsuk-heo/kaggle-titanic/blob/master/titanic-solution.ipynb)님의 `Kaggle Competition` 중 하나인 `Titanic 생존자에 관한 EDA`를 참고하였음을 미리 밝힙니다.  \n",
    "또한 [Deep Play](https://3months.tistory.com/325)님의 `Python으로 하는 EDA` 블로그 글을 참고하였음을 밝히며 깊은 감사를 표합니다. \n",
    "\n",
    "\n",
    "## 대장암 데이터 ( Colorectal cancer )\n",
    "\n",
    "---"
   ]
  },
  {
   "cell_type": "markdown",
   "metadata": {},
   "source": [
    "# 1. Defining the problem statement\n",
    "\n",
    "## 대장암에 관하여\n",
    "\n",
    "### 요약\n",
    "\n",
    "**대장**은 **충수, 맹장, 결장, 직장, 그리고 항문관**으로 나뉘며, 결장은 다시 상행결장, 횡행결장, 하행결장, 에스상(S狀)결장으로 나뉘는데, 이 가운데 맹장, 결장과 직장에 생기는 악성 종양이 대장암입니다. 대장암의 대부분은 선암(腺癌. 샘암), 즉 점막의 샘세포에 생기는 암이며, 그 밖에 림프종, 악성 유암종(類癌腫), 평활근육종(平滑筋肉腫) 같은 것이 원발성으로 생길 수 있습니다.\n",
    "\n",
    "### 정의\n",
    "**대장암**8이란 **결장과 직장에 생기는 악성 종양**을 말합니다. 발생 위치에 따라 결장에 생기면 **결장암**, 직장에 생기면 **직장암**이라고 하며, 이를 통칭하여 대장암 혹은 결장직장암이라고 합니다. 대장의 **대부분이 결장이기 때문에** 맥락에 따라 대장이라는 말로 **결장만을 뜻할 때도 간혹 있습니다**.\n",
    "\n",
    "### 종류\n",
    "대장암의 대부분은 대장 점막 샘세포에서 발생하는 선암(腺癌, 샘암)으로, 양성 종양인 선종성 용종(茸腫, polyp)에서 유래한다고 알려졌습니다. **용종**이란 위장관 점막의 조직이 부분적으로 과도하게 증식하여 혹처럼 튀어나온 것을 말하며, 선종(腺腫, 샘종, adenoma)이란 샘세포가 증식하여 생기는 종양입니다. 전체 대장암의 약 5~15%는 유전적 요인으로 인해 발생합니다.\n",
    "\n",
    "선암 이외에도 림프종, 신경내분비종양(유암종, 類癌腫, carcinoid), 평활근육종(平滑筋肉腫) 등이 원발성으로, 즉 다른 병의 결과가 아니라 그 자체로 생길 수 있습니다. 대장의 림프종은 전체 소화관의 악성 종양 중 1% 미만이며, 소화관 림프종 중에서는 10~20%를 차지합니다. 대장이 시작되는 부분인 회맹부에 잘 생기고 증상은 선암과 동일하며, 때때로 오른쪽 하복부에서 종괴(덩이)로 발견됩니다. 신경내분비종양(유암종)이란 위장관과 췌장, 난소, 폐 등의 신경내분비세포에서 발생하여 서서히 자라는 종양인데, 충수(충양돌기)와 직장에 주로 생기며 대부분 증상이 없습니다. 전이되거나 악성으로 유암종 증후군을 일으키는 경우는 극히 드뭅니다. 평활근육종이란 내장이나 혈관 따위의 벽을 이루는 평활근 즉 민무늬근에 생기는 육종(비상피성 조직에서 유래하는 악성 종양)입니다.\n",
    "\n",
    "한편, 대장에도 카포시 육종(Kaposi's sarcoma)이라는 매우 드문 악성 종양이 생기는 수가 있습니다. 이 육종은 헤르페스바이러스(Kaposi’s sarcoma herpes virus, KSHV)에 의해 발생하는 것으로, 피부에 가장 많이 나타나지만 뇌를 제외한 모든 장기에 생길 수 있으며 후천성면역결핍증(AIDS) 환자에게서 자주 발견됩니다. 대장이나 직장에서는 붉은 반점이나 결절, 또는 용종의 형태를 보입니다.\n",
    "\n",
    "### 발생부위\n",
    "· 대장의 위치 및 구조\n",
    "대장 즉 큰창자는 소장(작은창자)의 끝에서부터 항문까지 이어진 소화기관으로, **길이가 약 150cm 정도**입니다. 대장은 **맹장**(盲腸, 막창자), **결장**(結腸, 잘록창자, 대장의 대부분), **직장**(直腸, 곧창자), 그리고 **항문관**으로 나뉘며, 결장은 다시 상행결장(오름잘록창자), 횡행결장(가로잘록창자), 하행결장(내림잘록창자), 에스상(S狀)결장(구불잘록창자)으로 나뉩니다. 소장의 마지막 부분인 회장(回腸, 돌창자)의 말단과 대장의 초입인 맹장 사이에는 회맹판(回盲辦)이라는 것이 있어서 대장의 내용물이 소장으로 역류하는 것을 막습니다. 맹장 중앙부로부터 회맹 접합부 아래는 충수(蟲垂)라는 것이 7~8cm 가량 나와 있습니다. 충양돌기, 막창자꼬리라고도 하는 이 부위는 우리가 흔히 맹장염이라고 하는 막창자꼬리염이 발생하는 부위입니다. 에스상결장에 이어지는 직장은 항문관으로 넘어가는 부위인 항문직장륜에서 끝나며, 길이는 13~15cm입니다.\n",
    "\n",
    "대장의 직경은 맹장 부분이 7.8~8.5cm로 가장 크고, 원위부(遠位部, 아랫부분)로 갈수록 점차 작아져서 에스상결장에서는 약 2.5cm가 되었다가 직장에서 4.5cm쯤으로 다시 커지고, 항문관에서는 도로 작아집니다.\n",
    "\n",
    "대장벽은 점막(粘膜), 점막하조직, 근육층(윤상근[輪狀筋]과 종근 혹은 종주근[縱走筋]), 장막(腸膜)의 네 층으로 되어 있습니다.\n",
    "\n",
    "출처 : [국가암정보센터 암정보](https://terms.naver.com/entry.nhn?docId=5646470&cid=60406&categoryId=60406)\n",
    "\n",
    "---"
   ]
  },
  {
   "cell_type": "markdown",
   "metadata": {},
   "source": [
    "# 2. Collecting the data\n",
    "자료 제공자 : **김아영**  \n",
    "본 데이터는 ○○○○에서 제공한 데이터이므로, 외부 유출이 엄격히 금지되어있습니다. 이 점 양해주시면 좋겠습니다."
   ]
  },
  {
   "cell_type": "code",
   "execution_count": 1,
   "metadata": {},
   "outputs": [
    {
     "ename": "ModuleNotFoundError",
     "evalue": "No module named 'missingno'",
     "output_type": "error",
     "traceback": [
      "\u001b[1;31m---------------------------------------------------------------------------\u001b[0m",
      "\u001b[1;31mModuleNotFoundError\u001b[0m                       Traceback (most recent call last)",
      "\u001b[1;32m<ipython-input-1-c7a2c9f1d921>\u001b[0m in \u001b[0;36m<module>\u001b[1;34m\u001b[0m\n\u001b[0;32m      8\u001b[0m \u001b[1;32mimport\u001b[0m \u001b[0mseaborn\u001b[0m \u001b[1;32mas\u001b[0m \u001b[0msns\u001b[0m\u001b[1;33m\u001b[0m\u001b[1;33m\u001b[0m\u001b[0m\n\u001b[0;32m      9\u001b[0m \u001b[0msns\u001b[0m\u001b[1;33m.\u001b[0m\u001b[0mset\u001b[0m\u001b[1;33m(\u001b[0m\u001b[1;33m)\u001b[0m \u001b[1;31m# setting seaborn default for plots\u001b[0m\u001b[1;33m\u001b[0m\u001b[1;33m\u001b[0m\u001b[0m\n\u001b[1;32m---> 10\u001b[1;33m \u001b[1;32mimport\u001b[0m \u001b[0mmissingno\u001b[0m \u001b[1;32mas\u001b[0m \u001b[0mmsno\u001b[0m \u001b[1;31m# 결측치를 처리하기 위한\u001b[0m\u001b[1;33m\u001b[0m\u001b[1;33m\u001b[0m\u001b[0m\n\u001b[0m",
      "\u001b[1;31mModuleNotFoundError\u001b[0m: No module named 'missingno'"
     ]
    }
   ],
   "source": [
    "import numpy as np # numpy: 1.16.2 \n",
    "import pandas as pd # pandas: 0.24.2\n",
    "import matplotlib.pyplot as plt # matplotlib: 3.0.3\n",
    "from matplotlib import rc\n",
    "rc('font', family='AppleGothic')\n",
    "plt.rcParams['axes.unicode_minus'] = False\n",
    "%matplotlib inline\n",
    "import seaborn as sns\n",
    "sns.set() # setting seaborn default for plots\n",
    "import missingno as msno # 결측치를 처리하기 위한"
   ]
  },
  {
   "cell_type": "code",
   "execution_count": null,
   "metadata": {},
   "outputs": [],
   "source": [
    "# pandas 세부사항\n",
    "# https://songhuiming.github.io/pages/2017/04/02/jupyter-and-pandas-display/\n",
    "pd.set_option('display.max_columns', 500) # feature가 많은걸 대비해서 확장해둠\n",
    "pd.set_option('display.width', 1000)\n",
    "pd.set_option('display.max_colwidth', -1)"
   ]
  },
  {
   "cell_type": "code",
   "execution_count": null,
   "metadata": {},
   "outputs": [],
   "source": [
    "# 라이브러리 버전 확인\n",
    "# pd.show_versions(as_json=False)"
   ]
  },
  {
   "cell_type": "markdown",
   "metadata": {},
   "source": [
    "---\n",
    "\n",
    "# 3. Exploratory Data Analysis ( EDA )"
   ]
  },
  {
   "cell_type": "markdown",
   "metadata": {},
   "source": [
    "---\n",
    "\n",
    "## 3-1. Check `Shape` of Data"
   ]
  },
  {
   "cell_type": "code",
   "execution_count": 6,
   "metadata": {},
   "outputs": [
    {
     "data": {
      "text/plain": [
       "(70336, 60)"
      ]
     },
     "execution_count": 6,
     "metadata": {},
     "output_type": "execute_result"
    }
   ],
   "source": [
    "data = pd.read_csv('data/대장암 데이터.csv', engine='python')\n",
    "data.shape"
   ]
  },
  {
   "cell_type": "markdown",
   "metadata": {},
   "source": [
    "주어진 csv파일의 크기는 대략 **7만개**입니다."
   ]
  },
  {
   "cell_type": "code",
   "execution_count": 7,
   "metadata": {},
   "outputs": [
    {
     "data": {
      "text/html": [
       "<div>\n",
       "<style scoped>\n",
       "    .dataframe tbody tr th:only-of-type {\n",
       "        vertical-align: middle;\n",
       "    }\n",
       "\n",
       "    .dataframe tbody tr th {\n",
       "        vertical-align: top;\n",
       "    }\n",
       "\n",
       "    .dataframe thead th {\n",
       "        text-align: right;\n",
       "    }\n",
       "</style>\n",
       "<table border=\"1\" class=\"dataframe\">\n",
       "  <thead>\n",
       "    <tr style=\"text-align: right;\">\n",
       "      <th></th>\n",
       "      <th>no</th>\n",
       "      <th>studyid</th>\n",
       "      <th>sex</th>\n",
       "      <th>age</th>\n",
       "      <th>height</th>\n",
       "      <th>weight</th>\n",
       "      <th>bmi</th>\n",
       "      <th>obesity</th>\n",
       "      <th>wt_circ</th>\n",
       "      <th>abd_obe</th>\n",
       "      <th>...</th>\n",
       "      <th>htn</th>\n",
       "      <th>sbp</th>\n",
       "      <th>dbp</th>\n",
       "      <th>bp_13580</th>\n",
       "      <th>ca_hx</th>\n",
       "      <th>crc_hx</th>\n",
       "      <th>crc_fhx</th>\n",
       "      <th>exercise</th>\n",
       "      <th>analge</th>\n",
       "      <th>acrn_yn</th>\n",
       "    </tr>\n",
       "  </thead>\n",
       "  <tbody>\n",
       "    <tr>\n",
       "      <th>0</th>\n",
       "      <td>1247</td>\n",
       "      <td>33621</td>\n",
       "      <td>2</td>\n",
       "      <td>63.3</td>\n",
       "      <td>169.0</td>\n",
       "      <td>69.4</td>\n",
       "      <td>24.3</td>\n",
       "      <td>1</td>\n",
       "      <td>82.4</td>\n",
       "      <td>1</td>\n",
       "      <td>...</td>\n",
       "      <td>1</td>\n",
       "      <td>146.0</td>\n",
       "      <td>90.0</td>\n",
       "      <td>1.0</td>\n",
       "      <td>0</td>\n",
       "      <td>0.0</td>\n",
       "      <td>0</td>\n",
       "      <td>0</td>\n",
       "      <td>0.0</td>\n",
       "      <td>1</td>\n",
       "    </tr>\n",
       "    <tr>\n",
       "      <th>1</th>\n",
       "      <td>1656</td>\n",
       "      <td>45298</td>\n",
       "      <td>1</td>\n",
       "      <td>39.5</td>\n",
       "      <td>163.5</td>\n",
       "      <td>54.6</td>\n",
       "      <td>20.4</td>\n",
       "      <td>1</td>\n",
       "      <td>77.5</td>\n",
       "      <td>1</td>\n",
       "      <td>...</td>\n",
       "      <td>0</td>\n",
       "      <td>120.0</td>\n",
       "      <td>80.0</td>\n",
       "      <td>1.0</td>\n",
       "      <td>0</td>\n",
       "      <td>0.0</td>\n",
       "      <td>0</td>\n",
       "      <td>0</td>\n",
       "      <td>0.0</td>\n",
       "      <td>1</td>\n",
       "    </tr>\n",
       "    <tr>\n",
       "      <th>2</th>\n",
       "      <td>4522</td>\n",
       "      <td>110216</td>\n",
       "      <td>1</td>\n",
       "      <td>53.3</td>\n",
       "      <td>159.0</td>\n",
       "      <td>53.1</td>\n",
       "      <td>21.0</td>\n",
       "      <td>1</td>\n",
       "      <td>78.0</td>\n",
       "      <td>1</td>\n",
       "      <td>...</td>\n",
       "      <td>1</td>\n",
       "      <td>140.0</td>\n",
       "      <td>86.0</td>\n",
       "      <td>1.0</td>\n",
       "      <td>0</td>\n",
       "      <td>0.0</td>\n",
       "      <td>0</td>\n",
       "      <td>0</td>\n",
       "      <td>0.0</td>\n",
       "      <td>1</td>\n",
       "    </tr>\n",
       "    <tr>\n",
       "      <th>3</th>\n",
       "      <td>5872</td>\n",
       "      <td>144618</td>\n",
       "      <td>1</td>\n",
       "      <td>44.2</td>\n",
       "      <td>160.0</td>\n",
       "      <td>59.4</td>\n",
       "      <td>23.2</td>\n",
       "      <td>1</td>\n",
       "      <td>67.2</td>\n",
       "      <td>1</td>\n",
       "      <td>...</td>\n",
       "      <td>0</td>\n",
       "      <td>104.0</td>\n",
       "      <td>70.0</td>\n",
       "      <td>0.0</td>\n",
       "      <td>0</td>\n",
       "      <td>0.0</td>\n",
       "      <td>0</td>\n",
       "      <td>0</td>\n",
       "      <td>0.0</td>\n",
       "      <td>1</td>\n",
       "    </tr>\n",
       "    <tr>\n",
       "      <th>4</th>\n",
       "      <td>8177</td>\n",
       "      <td>193043</td>\n",
       "      <td>2</td>\n",
       "      <td>66.8</td>\n",
       "      <td>162.0</td>\n",
       "      <td>62.6</td>\n",
       "      <td>23.9</td>\n",
       "      <td>1</td>\n",
       "      <td>85.3</td>\n",
       "      <td>1</td>\n",
       "      <td>...</td>\n",
       "      <td>0</td>\n",
       "      <td>100.0</td>\n",
       "      <td>60.0</td>\n",
       "      <td>0.0</td>\n",
       "      <td>0</td>\n",
       "      <td>0.0</td>\n",
       "      <td>0</td>\n",
       "      <td>0</td>\n",
       "      <td>0.0</td>\n",
       "      <td>1</td>\n",
       "    </tr>\n",
       "    <tr>\n",
       "      <th>5</th>\n",
       "      <td>8602</td>\n",
       "      <td>200177</td>\n",
       "      <td>1</td>\n",
       "      <td>62.8</td>\n",
       "      <td>160.6</td>\n",
       "      <td>55.5</td>\n",
       "      <td>21.5</td>\n",
       "      <td>1</td>\n",
       "      <td>72.0</td>\n",
       "      <td>1</td>\n",
       "      <td>...</td>\n",
       "      <td>0</td>\n",
       "      <td>110.0</td>\n",
       "      <td>70.0</td>\n",
       "      <td>0.0</td>\n",
       "      <td>0</td>\n",
       "      <td>0.0</td>\n",
       "      <td>0</td>\n",
       "      <td>0</td>\n",
       "      <td>0.0</td>\n",
       "      <td>1</td>\n",
       "    </tr>\n",
       "    <tr>\n",
       "      <th>6</th>\n",
       "      <td>9921</td>\n",
       "      <td>220068</td>\n",
       "      <td>2</td>\n",
       "      <td>51.8</td>\n",
       "      <td>165.0</td>\n",
       "      <td>65.8</td>\n",
       "      <td>24.2</td>\n",
       "      <td>1</td>\n",
       "      <td>84.3</td>\n",
       "      <td>1</td>\n",
       "      <td>...</td>\n",
       "      <td>0</td>\n",
       "      <td>102.0</td>\n",
       "      <td>68.0</td>\n",
       "      <td>0.0</td>\n",
       "      <td>0</td>\n",
       "      <td>0.0</td>\n",
       "      <td>0</td>\n",
       "      <td>0</td>\n",
       "      <td>0.0</td>\n",
       "      <td>1</td>\n",
       "    </tr>\n",
       "    <tr>\n",
       "      <th>7</th>\n",
       "      <td>10533</td>\n",
       "      <td>227447</td>\n",
       "      <td>1</td>\n",
       "      <td>53.4</td>\n",
       "      <td>152.0</td>\n",
       "      <td>50.4</td>\n",
       "      <td>21.8</td>\n",
       "      <td>1</td>\n",
       "      <td>84.0</td>\n",
       "      <td>1</td>\n",
       "      <td>...</td>\n",
       "      <td>0</td>\n",
       "      <td>120.0</td>\n",
       "      <td>80.0</td>\n",
       "      <td>1.0</td>\n",
       "      <td>0</td>\n",
       "      <td>0.0</td>\n",
       "      <td>0</td>\n",
       "      <td>1</td>\n",
       "      <td>0.0</td>\n",
       "      <td>1</td>\n",
       "    </tr>\n",
       "    <tr>\n",
       "      <th>8</th>\n",
       "      <td>10567</td>\n",
       "      <td>227846</td>\n",
       "      <td>2</td>\n",
       "      <td>69.7</td>\n",
       "      <td>175.0</td>\n",
       "      <td>64.5</td>\n",
       "      <td>21.1</td>\n",
       "      <td>1</td>\n",
       "      <td>76.0</td>\n",
       "      <td>1</td>\n",
       "      <td>...</td>\n",
       "      <td>0</td>\n",
       "      <td>120.0</td>\n",
       "      <td>80.0</td>\n",
       "      <td>1.0</td>\n",
       "      <td>0</td>\n",
       "      <td>0.0</td>\n",
       "      <td>1</td>\n",
       "      <td>1</td>\n",
       "      <td>0.0</td>\n",
       "      <td>1</td>\n",
       "    </tr>\n",
       "    <tr>\n",
       "      <th>9</th>\n",
       "      <td>10575</td>\n",
       "      <td>227920</td>\n",
       "      <td>2</td>\n",
       "      <td>53.4</td>\n",
       "      <td>154.0</td>\n",
       "      <td>50.5</td>\n",
       "      <td>21.3</td>\n",
       "      <td>1</td>\n",
       "      <td>65.0</td>\n",
       "      <td>1</td>\n",
       "      <td>...</td>\n",
       "      <td>0</td>\n",
       "      <td>112.0</td>\n",
       "      <td>70.0</td>\n",
       "      <td>0.0</td>\n",
       "      <td>0</td>\n",
       "      <td>0.0</td>\n",
       "      <td>0</td>\n",
       "      <td>0</td>\n",
       "      <td>0.0</td>\n",
       "      <td>1</td>\n",
       "    </tr>\n",
       "  </tbody>\n",
       "</table>\n",
       "<p>10 rows × 60 columns</p>\n",
       "</div>"
      ],
      "text/plain": [
       "      no  studyid  sex   age  height  weight   bmi  obesity  wt_circ  abd_obe  \\\n",
       "0   1247    33621    2  63.3   169.0    69.4  24.3        1     82.4        1   \n",
       "1   1656    45298    1  39.5   163.5    54.6  20.4        1     77.5        1   \n",
       "2   4522   110216    1  53.3   159.0    53.1  21.0        1     78.0        1   \n",
       "3   5872   144618    1  44.2   160.0    59.4  23.2        1     67.2        1   \n",
       "4   8177   193043    2  66.8   162.0    62.6  23.9        1     85.3        1   \n",
       "5   8602   200177    1  62.8   160.6    55.5  21.5        1     72.0        1   \n",
       "6   9921   220068    2  51.8   165.0    65.8  24.2        1     84.3        1   \n",
       "7  10533   227447    1  53.4   152.0    50.4  21.8        1     84.0        1   \n",
       "8  10567   227846    2  69.7   175.0    64.5  21.1        1     76.0        1   \n",
       "9  10575   227920    2  53.4   154.0    50.5  21.3        1     65.0        1   \n",
       "\n",
       "    ...     htn    sbp   dbp  bp_13580  ca_hx  crc_hx  crc_fhx  exercise  \\\n",
       "0   ...       1  146.0  90.0       1.0      0     0.0        0         0   \n",
       "1   ...       0  120.0  80.0       1.0      0     0.0        0         0   \n",
       "2   ...       1  140.0  86.0       1.0      0     0.0        0         0   \n",
       "3   ...       0  104.0  70.0       0.0      0     0.0        0         0   \n",
       "4   ...       0  100.0  60.0       0.0      0     0.0        0         0   \n",
       "5   ...       0  110.0  70.0       0.0      0     0.0        0         0   \n",
       "6   ...       0  102.0  68.0       0.0      0     0.0        0         0   \n",
       "7   ...       0  120.0  80.0       1.0      0     0.0        0         1   \n",
       "8   ...       0  120.0  80.0       1.0      0     0.0        1         1   \n",
       "9   ...       0  112.0  70.0       0.0      0     0.0        0         0   \n",
       "\n",
       "   analge  acrn_yn  \n",
       "0     0.0        1  \n",
       "1     0.0        1  \n",
       "2     0.0        1  \n",
       "3     0.0        1  \n",
       "4     0.0        1  \n",
       "5     0.0        1  \n",
       "6     0.0        1  \n",
       "7     0.0        1  \n",
       "8     0.0        1  \n",
       "9     0.0        1  \n",
       "\n",
       "[10 rows x 60 columns]"
      ]
     },
     "execution_count": 7,
     "metadata": {},
     "output_type": "execute_result"
    }
   ],
   "source": [
    "#주어진 데이터의 첫 10개의 행\n",
    "data.head(10)"
   ]
  },
  {
   "cell_type": "code",
   "execution_count": 8,
   "metadata": {},
   "outputs": [
    {
     "data": {
      "text/html": [
       "<div>\n",
       "<style scoped>\n",
       "    .dataframe tbody tr th:only-of-type {\n",
       "        vertical-align: middle;\n",
       "    }\n",
       "\n",
       "    .dataframe tbody tr th {\n",
       "        vertical-align: top;\n",
       "    }\n",
       "\n",
       "    .dataframe thead th {\n",
       "        text-align: right;\n",
       "    }\n",
       "</style>\n",
       "<table border=\"1\" class=\"dataframe\">\n",
       "  <thead>\n",
       "    <tr style=\"text-align: right;\">\n",
       "      <th></th>\n",
       "      <th>no</th>\n",
       "      <th>studyid</th>\n",
       "      <th>sex</th>\n",
       "      <th>age</th>\n",
       "      <th>height</th>\n",
       "      <th>weight</th>\n",
       "      <th>bmi</th>\n",
       "      <th>obesity</th>\n",
       "      <th>wt_circ</th>\n",
       "      <th>abd_obe</th>\n",
       "      <th>...</th>\n",
       "      <th>htn</th>\n",
       "      <th>sbp</th>\n",
       "      <th>dbp</th>\n",
       "      <th>bp_13580</th>\n",
       "      <th>ca_hx</th>\n",
       "      <th>crc_hx</th>\n",
       "      <th>crc_fhx</th>\n",
       "      <th>exercise</th>\n",
       "      <th>analge</th>\n",
       "      <th>acrn_yn</th>\n",
       "    </tr>\n",
       "  </thead>\n",
       "  <tbody>\n",
       "    <tr>\n",
       "      <th>70326</th>\n",
       "      <td>17356</td>\n",
       "      <td>488884</td>\n",
       "      <td>1</td>\n",
       "      <td>36.0</td>\n",
       "      <td>161.7</td>\n",
       "      <td>55.0</td>\n",
       "      <td>21.0</td>\n",
       "      <td>1</td>\n",
       "      <td>72.0</td>\n",
       "      <td>1</td>\n",
       "      <td>...</td>\n",
       "      <td>0</td>\n",
       "      <td>109.0</td>\n",
       "      <td>71.0</td>\n",
       "      <td>0.0</td>\n",
       "      <td>0</td>\n",
       "      <td>NaN</td>\n",
       "      <td>0</td>\n",
       "      <td>1</td>\n",
       "      <td>NaN</td>\n",
       "      <td>0</td>\n",
       "    </tr>\n",
       "    <tr>\n",
       "      <th>70327</th>\n",
       "      <td>9479</td>\n",
       "      <td>488893</td>\n",
       "      <td>1</td>\n",
       "      <td>43.0</td>\n",
       "      <td>161.2</td>\n",
       "      <td>68.9</td>\n",
       "      <td>26.5</td>\n",
       "      <td>2</td>\n",
       "      <td>93.0</td>\n",
       "      <td>2</td>\n",
       "      <td>...</td>\n",
       "      <td>0</td>\n",
       "      <td>105.0</td>\n",
       "      <td>72.0</td>\n",
       "      <td>0.0</td>\n",
       "      <td>0</td>\n",
       "      <td>NaN</td>\n",
       "      <td>0</td>\n",
       "      <td>1</td>\n",
       "      <td>NaN</td>\n",
       "      <td>0</td>\n",
       "    </tr>\n",
       "    <tr>\n",
       "      <th>70328</th>\n",
       "      <td>21022</td>\n",
       "      <td>488901</td>\n",
       "      <td>2</td>\n",
       "      <td>34.0</td>\n",
       "      <td>170.8</td>\n",
       "      <td>77.4</td>\n",
       "      <td>26.5</td>\n",
       "      <td>2</td>\n",
       "      <td>88.5</td>\n",
       "      <td>1</td>\n",
       "      <td>...</td>\n",
       "      <td>0</td>\n",
       "      <td>98.0</td>\n",
       "      <td>64.0</td>\n",
       "      <td>0.0</td>\n",
       "      <td>0</td>\n",
       "      <td>NaN</td>\n",
       "      <td>0</td>\n",
       "      <td>1</td>\n",
       "      <td>NaN</td>\n",
       "      <td>0</td>\n",
       "    </tr>\n",
       "    <tr>\n",
       "      <th>70329</th>\n",
       "      <td>1580</td>\n",
       "      <td>488904</td>\n",
       "      <td>2</td>\n",
       "      <td>70.0</td>\n",
       "      <td>161.9</td>\n",
       "      <td>79.7</td>\n",
       "      <td>30.4</td>\n",
       "      <td>2</td>\n",
       "      <td>111.4</td>\n",
       "      <td>2</td>\n",
       "      <td>...</td>\n",
       "      <td>1</td>\n",
       "      <td>131.0</td>\n",
       "      <td>86.0</td>\n",
       "      <td>1.0</td>\n",
       "      <td>0</td>\n",
       "      <td>NaN</td>\n",
       "      <td>0</td>\n",
       "      <td>0</td>\n",
       "      <td>NaN</td>\n",
       "      <td>0</td>\n",
       "    </tr>\n",
       "    <tr>\n",
       "      <th>70330</th>\n",
       "      <td>182</td>\n",
       "      <td>488917</td>\n",
       "      <td>1</td>\n",
       "      <td>58.0</td>\n",
       "      <td>153.7</td>\n",
       "      <td>72.5</td>\n",
       "      <td>30.7</td>\n",
       "      <td>2</td>\n",
       "      <td>96.5</td>\n",
       "      <td>2</td>\n",
       "      <td>...</td>\n",
       "      <td>1</td>\n",
       "      <td>112.0</td>\n",
       "      <td>80.0</td>\n",
       "      <td>1.0</td>\n",
       "      <td>0</td>\n",
       "      <td>NaN</td>\n",
       "      <td>0</td>\n",
       "      <td>0</td>\n",
       "      <td>NaN</td>\n",
       "      <td>0</td>\n",
       "    </tr>\n",
       "    <tr>\n",
       "      <th>70331</th>\n",
       "      <td>3310</td>\n",
       "      <td>488919</td>\n",
       "      <td>1</td>\n",
       "      <td>57.0</td>\n",
       "      <td>158.6</td>\n",
       "      <td>66.3</td>\n",
       "      <td>26.4</td>\n",
       "      <td>2</td>\n",
       "      <td>89.5</td>\n",
       "      <td>2</td>\n",
       "      <td>...</td>\n",
       "      <td>0</td>\n",
       "      <td>90.0</td>\n",
       "      <td>56.0</td>\n",
       "      <td>0.0</td>\n",
       "      <td>0</td>\n",
       "      <td>NaN</td>\n",
       "      <td>0</td>\n",
       "      <td>1</td>\n",
       "      <td>NaN</td>\n",
       "      <td>0</td>\n",
       "    </tr>\n",
       "    <tr>\n",
       "      <th>70332</th>\n",
       "      <td>1788</td>\n",
       "      <td>488924</td>\n",
       "      <td>2</td>\n",
       "      <td>67.0</td>\n",
       "      <td>168.8</td>\n",
       "      <td>72.3</td>\n",
       "      <td>25.4</td>\n",
       "      <td>2</td>\n",
       "      <td>88.2</td>\n",
       "      <td>1</td>\n",
       "      <td>...</td>\n",
       "      <td>1</td>\n",
       "      <td>143.0</td>\n",
       "      <td>101.0</td>\n",
       "      <td>1.0</td>\n",
       "      <td>0</td>\n",
       "      <td>NaN</td>\n",
       "      <td>0</td>\n",
       "      <td>0</td>\n",
       "      <td>NaN</td>\n",
       "      <td>0</td>\n",
       "    </tr>\n",
       "    <tr>\n",
       "      <th>70333</th>\n",
       "      <td>3657</td>\n",
       "      <td>488929</td>\n",
       "      <td>2</td>\n",
       "      <td>56.0</td>\n",
       "      <td>172.1</td>\n",
       "      <td>70.5</td>\n",
       "      <td>23.8</td>\n",
       "      <td>1</td>\n",
       "      <td>84.3</td>\n",
       "      <td>1</td>\n",
       "      <td>...</td>\n",
       "      <td>1</td>\n",
       "      <td>NaN</td>\n",
       "      <td>NaN</td>\n",
       "      <td>0.0</td>\n",
       "      <td>0</td>\n",
       "      <td>NaN</td>\n",
       "      <td>0</td>\n",
       "      <td>1</td>\n",
       "      <td>NaN</td>\n",
       "      <td>0</td>\n",
       "    </tr>\n",
       "    <tr>\n",
       "      <th>70334</th>\n",
       "      <td>8877</td>\n",
       "      <td>488935</td>\n",
       "      <td>1</td>\n",
       "      <td>44.0</td>\n",
       "      <td>154.7</td>\n",
       "      <td>49.7</td>\n",
       "      <td>20.8</td>\n",
       "      <td>1</td>\n",
       "      <td>82.5</td>\n",
       "      <td>1</td>\n",
       "      <td>...</td>\n",
       "      <td>0</td>\n",
       "      <td>107.0</td>\n",
       "      <td>72.0</td>\n",
       "      <td>0.0</td>\n",
       "      <td>0</td>\n",
       "      <td>NaN</td>\n",
       "      <td>0</td>\n",
       "      <td>1</td>\n",
       "      <td>NaN</td>\n",
       "      <td>0</td>\n",
       "    </tr>\n",
       "    <tr>\n",
       "      <th>70335</th>\n",
       "      <td>6863</td>\n",
       "      <td>488940</td>\n",
       "      <td>2</td>\n",
       "      <td>47.0</td>\n",
       "      <td>174.6</td>\n",
       "      <td>76.6</td>\n",
       "      <td>25.1</td>\n",
       "      <td>2</td>\n",
       "      <td>85.3</td>\n",
       "      <td>1</td>\n",
       "      <td>...</td>\n",
       "      <td>1</td>\n",
       "      <td>105.0</td>\n",
       "      <td>71.0</td>\n",
       "      <td>0.0</td>\n",
       "      <td>0</td>\n",
       "      <td>NaN</td>\n",
       "      <td>0</td>\n",
       "      <td>0</td>\n",
       "      <td>NaN</td>\n",
       "      <td>0</td>\n",
       "    </tr>\n",
       "  </tbody>\n",
       "</table>\n",
       "<p>10 rows × 60 columns</p>\n",
       "</div>"
      ],
      "text/plain": [
       "          no  studyid  sex   age  height  weight   bmi  obesity  wt_circ  \\\n",
       "70326  17356   488884    1  36.0   161.7    55.0  21.0        1     72.0   \n",
       "70327   9479   488893    1  43.0   161.2    68.9  26.5        2     93.0   \n",
       "70328  21022   488901    2  34.0   170.8    77.4  26.5        2     88.5   \n",
       "70329   1580   488904    2  70.0   161.9    79.7  30.4        2    111.4   \n",
       "70330    182   488917    1  58.0   153.7    72.5  30.7        2     96.5   \n",
       "70331   3310   488919    1  57.0   158.6    66.3  26.4        2     89.5   \n",
       "70332   1788   488924    2  67.0   168.8    72.3  25.4        2     88.2   \n",
       "70333   3657   488929    2  56.0   172.1    70.5  23.8        1     84.3   \n",
       "70334   8877   488935    1  44.0   154.7    49.7  20.8        1     82.5   \n",
       "70335   6863   488940    2  47.0   174.6    76.6  25.1        2     85.3   \n",
       "\n",
       "       abd_obe   ...     htn    sbp    dbp  bp_13580  ca_hx  crc_hx  crc_fhx  \\\n",
       "70326        1   ...       0  109.0   71.0       0.0      0     NaN        0   \n",
       "70327        2   ...       0  105.0   72.0       0.0      0     NaN        0   \n",
       "70328        1   ...       0   98.0   64.0       0.0      0     NaN        0   \n",
       "70329        2   ...       1  131.0   86.0       1.0      0     NaN        0   \n",
       "70330        2   ...       1  112.0   80.0       1.0      0     NaN        0   \n",
       "70331        2   ...       0   90.0   56.0       0.0      0     NaN        0   \n",
       "70332        1   ...       1  143.0  101.0       1.0      0     NaN        0   \n",
       "70333        1   ...       1    NaN    NaN       0.0      0     NaN        0   \n",
       "70334        1   ...       0  107.0   72.0       0.0      0     NaN        0   \n",
       "70335        1   ...       1  105.0   71.0       0.0      0     NaN        0   \n",
       "\n",
       "       exercise  analge  acrn_yn  \n",
       "70326         1     NaN        0  \n",
       "70327         1     NaN        0  \n",
       "70328         1     NaN        0  \n",
       "70329         0     NaN        0  \n",
       "70330         0     NaN        0  \n",
       "70331         1     NaN        0  \n",
       "70332         0     NaN        0  \n",
       "70333         1     NaN        0  \n",
       "70334         1     NaN        0  \n",
       "70335         0     NaN        0  \n",
       "\n",
       "[10 rows x 60 columns]"
      ]
     },
     "execution_count": 8,
     "metadata": {},
     "output_type": "execute_result"
    }
   ],
   "source": [
    "# 주어진 데이터의 마지막 10개의 행\n",
    "data.tail(10)"
   ]
  },
  {
   "cell_type": "markdown",
   "metadata": {},
   "source": [
    "해당 데이터를 **히스토그램으로 표현**해보자"
   ]
  },
  {
   "cell_type": "code",
   "execution_count": 9,
   "metadata": {},
   "outputs": [
    {
     "data": {
      "image/png": "[encoded data removed]",
      "text/plain": [
       "<Figure size 1152x1440 with 64 Axes>"
      ]
     },
     "metadata": {
      "needs_background": "light"
     },
     "output_type": "display_data"
    }
   ],
   "source": [
    "# 각 변수에 대한 히스토그램은 알파벳 순으로 정렬됨\n",
    "data.hist(figsize=(16,20),bins=60,xlabelsize=8,ylabelsize=8);"
   ]
  },
  {
   "cell_type": "code",
   "execution_count": 10,
   "metadata": {},
   "outputs": [
    {
     "data": {
      "text/html": [
       "<div>\n",
       "<style scoped>\n",
       "    .dataframe tbody tr th:only-of-type {\n",
       "        vertical-align: middle;\n",
       "    }\n",
       "\n",
       "    .dataframe tbody tr th {\n",
       "        vertical-align: top;\n",
       "    }\n",
       "\n",
       "    .dataframe thead th {\n",
       "        text-align: right;\n",
       "    }\n",
       "</style>\n",
       "<table border=\"1\" class=\"dataframe\">\n",
       "  <thead>\n",
       "    <tr style=\"text-align: right;\">\n",
       "      <th></th>\n",
       "      <th>no</th>\n",
       "      <th>studyid</th>\n",
       "      <th>sex</th>\n",
       "      <th>age</th>\n",
       "      <th>height</th>\n",
       "      <th>weight</th>\n",
       "      <th>bmi</th>\n",
       "      <th>obesity</th>\n",
       "      <th>wt_circ</th>\n",
       "      <th>abd_obe</th>\n",
       "      <th>...</th>\n",
       "      <th>htn</th>\n",
       "      <th>sbp</th>\n",
       "      <th>dbp</th>\n",
       "      <th>bp_13580</th>\n",
       "      <th>ca_hx</th>\n",
       "      <th>crc_hx</th>\n",
       "      <th>crc_fhx</th>\n",
       "      <th>exercise</th>\n",
       "      <th>analge</th>\n",
       "      <th>acrn_yn</th>\n",
       "    </tr>\n",
       "  </thead>\n",
       "  <tbody>\n",
       "    <tr>\n",
       "      <th>count</th>\n",
       "      <td>70336.000000</td>\n",
       "      <td>70336.000000</td>\n",
       "      <td>70336.000000</td>\n",
       "      <td>70336.000000</td>\n",
       "      <td>70335.000000</td>\n",
       "      <td>70336.000000</td>\n",
       "      <td>70336.000000</td>\n",
       "      <td>70336.000000</td>\n",
       "      <td>70336.00000</td>\n",
       "      <td>70336.000000</td>\n",
       "      <td>...</td>\n",
       "      <td>70336.000000</td>\n",
       "      <td>70092.000000</td>\n",
       "      <td>70092.000000</td>\n",
       "      <td>70316.000000</td>\n",
       "      <td>70336.000000</td>\n",
       "      <td>51358.0</td>\n",
       "      <td>70336.000000</td>\n",
       "      <td>70336.000000</td>\n",
       "      <td>51357.000000</td>\n",
       "      <td>70336.000000</td>\n",
       "    </tr>\n",
       "    <tr>\n",
       "      <th>mean</th>\n",
       "      <td>12658.498962</td>\n",
       "      <td>246119.200011</td>\n",
       "      <td>1.693955</td>\n",
       "      <td>41.561091</td>\n",
       "      <td>168.544035</td>\n",
       "      <td>68.066619</td>\n",
       "      <td>23.840154</td>\n",
       "      <td>1.335945</td>\n",
       "      <td>83.13729</td>\n",
       "      <td>1.240204</td>\n",
       "      <td>...</td>\n",
       "      <td>0.166245</td>\n",
       "      <td>113.245335</td>\n",
       "      <td>72.581949</td>\n",
       "      <td>0.297841</td>\n",
       "      <td>0.000185</td>\n",
       "      <td>0.0</td>\n",
       "      <td>0.039354</td>\n",
       "      <td>0.544913</td>\n",
       "      <td>11.369881</td>\n",
       "      <td>0.013649</td>\n",
       "    </tr>\n",
       "    <tr>\n",
       "      <th>std</th>\n",
       "      <td>7325.572348</td>\n",
       "      <td>141502.238243</td>\n",
       "      <td>0.460852</td>\n",
       "      <td>8.290267</td>\n",
       "      <td>8.280676</td>\n",
       "      <td>12.106435</td>\n",
       "      <td>3.116393</td>\n",
       "      <td>0.472323</td>\n",
       "      <td>8.67106</td>\n",
       "      <td>0.427210</td>\n",
       "      <td>...</td>\n",
       "      <td>0.372303</td>\n",
       "      <td>13.031853</td>\n",
       "      <td>9.592780</td>\n",
       "      <td>0.457313</td>\n",
       "      <td>0.013594</td>\n",
       "      <td>0.0</td>\n",
       "      <td>0.194437</td>\n",
       "      <td>0.497982</td>\n",
       "      <td>31.483689</td>\n",
       "      <td>0.116029</td>\n",
       "    </tr>\n",
       "    <tr>\n",
       "      <th>min</th>\n",
       "      <td>1.000000</td>\n",
       "      <td>4.000000</td>\n",
       "      <td>1.000000</td>\n",
       "      <td>20.000000</td>\n",
       "      <td>135.800000</td>\n",
       "      <td>34.700000</td>\n",
       "      <td>14.400000</td>\n",
       "      <td>1.000000</td>\n",
       "      <td>53.20000</td>\n",
       "      <td>1.000000</td>\n",
       "      <td>...</td>\n",
       "      <td>0.000000</td>\n",
       "      <td>71.000000</td>\n",
       "      <td>40.000000</td>\n",
       "      <td>0.000000</td>\n",
       "      <td>0.000000</td>\n",
       "      <td>0.0</td>\n",
       "      <td>0.000000</td>\n",
       "      <td>0.000000</td>\n",
       "      <td>0.000000</td>\n",
       "      <td>0.000000</td>\n",
       "    </tr>\n",
       "    <tr>\n",
       "      <th>25%</th>\n",
       "      <td>6522.000000</td>\n",
       "      <td>119082.250000</td>\n",
       "      <td>1.000000</td>\n",
       "      <td>36.000000</td>\n",
       "      <td>162.600000</td>\n",
       "      <td>59.100000</td>\n",
       "      <td>21.700000</td>\n",
       "      <td>1.000000</td>\n",
       "      <td>77.20000</td>\n",
       "      <td>1.000000</td>\n",
       "      <td>...</td>\n",
       "      <td>0.000000</td>\n",
       "      <td>104.000000</td>\n",
       "      <td>66.000000</td>\n",
       "      <td>0.000000</td>\n",
       "      <td>0.000000</td>\n",
       "      <td>0.0</td>\n",
       "      <td>0.000000</td>\n",
       "      <td>0.000000</td>\n",
       "      <td>0.000000</td>\n",
       "      <td>0.000000</td>\n",
       "    </tr>\n",
       "    <tr>\n",
       "      <th>50%</th>\n",
       "      <td>12679.500000</td>\n",
       "      <td>255673.500000</td>\n",
       "      <td>2.000000</td>\n",
       "      <td>40.000000</td>\n",
       "      <td>169.400000</td>\n",
       "      <td>68.100000</td>\n",
       "      <td>23.700000</td>\n",
       "      <td>1.000000</td>\n",
       "      <td>83.00000</td>\n",
       "      <td>1.000000</td>\n",
       "      <td>...</td>\n",
       "      <td>0.000000</td>\n",
       "      <td>112.000000</td>\n",
       "      <td>71.000000</td>\n",
       "      <td>0.000000</td>\n",
       "      <td>0.000000</td>\n",
       "      <td>0.0</td>\n",
       "      <td>0.000000</td>\n",
       "      <td>1.000000</td>\n",
       "      <td>0.000000</td>\n",
       "      <td>0.000000</td>\n",
       "    </tr>\n",
       "    <tr>\n",
       "      <th>75%</th>\n",
       "      <td>18201.250000</td>\n",
       "      <td>363216.250000</td>\n",
       "      <td>2.000000</td>\n",
       "      <td>46.000000</td>\n",
       "      <td>174.700000</td>\n",
       "      <td>76.000000</td>\n",
       "      <td>25.700000</td>\n",
       "      <td>2.000000</td>\n",
       "      <td>88.80000</td>\n",
       "      <td>1.000000</td>\n",
       "      <td>...</td>\n",
       "      <td>0.000000</td>\n",
       "      <td>121.000000</td>\n",
       "      <td>80.000000</td>\n",
       "      <td>1.000000</td>\n",
       "      <td>0.000000</td>\n",
       "      <td>0.0</td>\n",
       "      <td>0.000000</td>\n",
       "      <td>1.000000</td>\n",
       "      <td>0.000000</td>\n",
       "      <td>0.000000</td>\n",
       "    </tr>\n",
       "    <tr>\n",
       "      <th>max</th>\n",
       "      <td>29307.000000</td>\n",
       "      <td>499973.000000</td>\n",
       "      <td>2.000000</td>\n",
       "      <td>84.200000</td>\n",
       "      <td>202.400000</td>\n",
       "      <td>143.200000</td>\n",
       "      <td>44.800000</td>\n",
       "      <td>2.000000</td>\n",
       "      <td>137.00000</td>\n",
       "      <td>2.000000</td>\n",
       "      <td>...</td>\n",
       "      <td>1.000000</td>\n",
       "      <td>200.000000</td>\n",
       "      <td>134.000000</td>\n",
       "      <td>1.000000</td>\n",
       "      <td>1.000000</td>\n",
       "      <td>0.0</td>\n",
       "      <td>1.000000</td>\n",
       "      <td>1.000000</td>\n",
       "      <td>99.000000</td>\n",
       "      <td>1.000000</td>\n",
       "    </tr>\n",
       "  </tbody>\n",
       "</table>\n",
       "<p>8 rows × 60 columns</p>\n",
       "</div>"
      ],
      "text/plain": [
       "                 no        studyid           sex           age        height  \\\n",
       "count  70336.000000   70336.000000  70336.000000  70336.000000  70335.000000   \n",
       "mean   12658.498962  246119.200011      1.693955     41.561091    168.544035   \n",
       "std     7325.572348  141502.238243      0.460852      8.290267      8.280676   \n",
       "min        1.000000       4.000000      1.000000     20.000000    135.800000   \n",
       "25%     6522.000000  119082.250000      1.000000     36.000000    162.600000   \n",
       "50%    12679.500000  255673.500000      2.000000     40.000000    169.400000   \n",
       "75%    18201.250000  363216.250000      2.000000     46.000000    174.700000   \n",
       "max    29307.000000  499973.000000      2.000000     84.200000    202.400000   \n",
       "\n",
       "             weight           bmi       obesity      wt_circ       abd_obe  \\\n",
       "count  70336.000000  70336.000000  70336.000000  70336.00000  70336.000000   \n",
       "mean      68.066619     23.840154      1.335945     83.13729      1.240204   \n",
       "std       12.106435      3.116393      0.472323      8.67106      0.427210   \n",
       "min       34.700000     14.400000      1.000000     53.20000      1.000000   \n",
       "25%       59.100000     21.700000      1.000000     77.20000      1.000000   \n",
       "50%       68.100000     23.700000      1.000000     83.00000      1.000000   \n",
       "75%       76.000000     25.700000      2.000000     88.80000      1.000000   \n",
       "max      143.200000     44.800000      2.000000    137.00000      2.000000   \n",
       "\n",
       "           ...                htn           sbp           dbp      bp_13580  \\\n",
       "count      ...       70336.000000  70092.000000  70092.000000  70316.000000   \n",
       "mean       ...           0.166245    113.245335     72.581949      0.297841   \n",
       "std        ...           0.372303     13.031853      9.592780      0.457313   \n",
       "min        ...           0.000000     71.000000     40.000000      0.000000   \n",
       "25%        ...           0.000000    104.000000     66.000000      0.000000   \n",
       "50%        ...           0.000000    112.000000     71.000000      0.000000   \n",
       "75%        ...           0.000000    121.000000     80.000000      1.000000   \n",
       "max        ...           1.000000    200.000000    134.000000      1.000000   \n",
       "\n",
       "              ca_hx   crc_hx       crc_fhx      exercise        analge  \\\n",
       "count  70336.000000  51358.0  70336.000000  70336.000000  51357.000000   \n",
       "mean       0.000185      0.0      0.039354      0.544913     11.369881   \n",
       "std        0.013594      0.0      0.194437      0.497982     31.483689   \n",
       "min        0.000000      0.0      0.000000      0.000000      0.000000   \n",
       "25%        0.000000      0.0      0.000000      0.000000      0.000000   \n",
       "50%        0.000000      0.0      0.000000      1.000000      0.000000   \n",
       "75%        0.000000      0.0      0.000000      1.000000      0.000000   \n",
       "max        1.000000      0.0      1.000000      1.000000     99.000000   \n",
       "\n",
       "            acrn_yn  \n",
       "count  70336.000000  \n",
       "mean       0.013649  \n",
       "std        0.116029  \n",
       "min        0.000000  \n",
       "25%        0.000000  \n",
       "50%        0.000000  \n",
       "75%        0.000000  \n",
       "max        1.000000  \n",
       "\n",
       "[8 rows x 60 columns]"
      ]
     },
     "execution_count": 10,
     "metadata": {},
     "output_type": "execute_result"
    }
   ],
   "source": [
    "# 간단하게 데이터의 값들에 대해서\n",
    "data.describe()"
   ]
  },
  {
   "cell_type": "code",
   "execution_count": 11,
   "metadata": {},
   "outputs": [
    {
     "data": {
      "text/plain": [
       "no              0\n",
       "studyid         0\n",
       "sex             0\n",
       "age             0\n",
       "height          1\n",
       "weight          0\n",
       "bmi             0\n",
       "obesity         0\n",
       "wt_circ         0\n",
       "abd_obe         0\n",
       "wbc             0\n",
       "rbc             0\n",
       "hb              0\n",
       "hct             1\n",
       "rdw          8950\n",
       "plt             2\n",
       "ca           1460\n",
       "glucose         0\n",
       "glu_100         0\n",
       "prot            0\n",
       "alb             0\n",
       "glob            0\n",
       "t_chol          0\n",
       "ldh             0\n",
       "tg              0\n",
       "tg_150          0\n",
       "hdl             0\n",
       "hdl_abnl        0\n",
       "ldl             0\n",
       "hba1c           0\n",
       "hba1c_65        0\n",
       "crp             0\n",
       "hs_crp       3787\n",
       "cea             0\n",
       "ft4             0\n",
       "tsh             0\n",
       "ft3           985\n",
       "insulin         0\n",
       "homa_ir         0\n",
       "ferritin       40\n",
       "ob_yn        4731\n",
       "ob_rt       63241\n",
       "meta_yn         0\n",
       "mets_yn         0\n",
       "meta_n          0\n",
       "obe_meta        0\n",
       "alc_yn          0\n",
       "alc_freq        3\n",
       "smoke           0\n",
       "dm              0\n",
       "htn             0\n",
       "sbp           244\n",
       "dbp           244\n",
       "bp_13580       20\n",
       "ca_hx           0\n",
       "crc_hx      18978\n",
       "crc_fhx         0\n",
       "exercise        0\n",
       "analge      18979\n",
       "acrn_yn         0\n",
       "dtype: int64"
      ]
     },
     "execution_count": 11,
     "metadata": {},
     "output_type": "execute_result"
    }
   ],
   "source": [
    "# 결측치 파악\n",
    "data.isnull().sum()"
   ]
  },
  {
   "cell_type": "markdown",
   "metadata": {},
   "source": [
    "---\n",
    "# 4. Feature Engineering\n",
    "제공받은 자료가 이미 깔끔하게 정리돼었다.  \n",
    "하지만, `no`나 `studyid`값은 더이상 중요하지 않기에 일단 drop을 시키자"
   ]
  },
  {
   "cell_type": "code",
   "execution_count": 12,
   "metadata": {
    "scrolled": true
   },
   "outputs": [],
   "source": [
    "data.drop('studyid',axis=1,inplace=True)\n",
    "data.drop('no',axis=1,inplace=True)"
   ]
  },
  {
   "cell_type": "markdown",
   "metadata": {},
   "source": [
    "`ob_rt`,`crc_hx` 그리고 `analge`와 같이 `null`값이 1만개 이상 존재하는 feauture는 중요하지 않다고 생각해서 제외하도록 한다. 그 이유는 다음과 같다.\n",
    "- crc_hx : 너무 한 값에 몰려 있음)\n",
    "- ob_rt : null 값이 너무 많음\n",
    "- analge : null 값이 너무 많음\n",
    "- exercise : 분포가 binary로 큰 차이가 없음"
   ]
  },
  {
   "cell_type": "code",
   "execution_count": 13,
   "metadata": {},
   "outputs": [],
   "source": [
    "data.drop('ob_rt',axis=1,inplace=True)\n",
    "data.drop('crc_hx',axis=1,inplace=True)\n",
    "data.drop('analge',axis=1,inplace=True)"
   ]
  },
  {
   "cell_type": "markdown",
   "metadata": {},
   "source": [
    "범주형 데이터에서 의미 없다고 판단한 변수는 `crp`, `alc_yn`, `bp_13580`였기 때문에 drop을 한다."
   ]
  },
  {
   "cell_type": "code",
   "execution_count": 14,
   "metadata": {},
   "outputs": [],
   "source": [
    "data.drop('crp',axis=1,inplace=True)\n",
    "data.drop('alc_yn',axis=1,inplace=True)\n",
    "data.drop('bp_13580',axis=1,inplace=True)"
   ]
  },
  {
   "cell_type": "code",
   "execution_count": 15,
   "metadata": {},
   "outputs": [
    {
     "data": {
      "text/plain": [
       "['height',\n",
       " 'weight',\n",
       " 'wbc',\n",
       " 'hb',\n",
       " 'rdw',\n",
       " 'plt',\n",
       " 'prot',\n",
       " 'bmi',\n",
       " 'wt_cirt',\n",
       " 'hct',\n",
       " 'rbc']"
      ]
     },
     "execution_count": 15,
     "metadata": {},
     "output_type": "execute_result"
    }
   ],
   "source": [
    "['height','weight','wbc','hb','rdw','plt','prot','bmi','wt_cirt','hct','rbc']"
   ]
  },
  {
   "cell_type": "markdown",
   "metadata": {},
   "source": [
    "또한 연속형 변수에 대한 처리는 `missing value 처리`는 `평균값 및 최빈값으로 처리`한다.\n",
    "\n",
    "### null 인 feature들의 최빈값"
   ]
  },
  {
   "cell_type": "code",
   "execution_count": 16,
   "metadata": {},
   "outputs": [
    {
     "name": "stdout",
     "output_type": "stream",
     "text": [
      "height - most_freq: 172.0\n",
      "hct - most_freq: 44.7\n",
      "rdw - most_freq: 12.5\n",
      "plt - most_freq: 228.0\n",
      "ca - most_freq: 9.4\n",
      "hs_crp - most_freq: 0.03\n",
      "ft3 - most_freq: 3.2\n",
      "ferritin - most_freq: 149.5\n",
      "ob_yn - most_freq: 1.0\n",
      "alc_freq - most_freq: 2.0\n",
      "sbp - most_freq: 110.0\n",
      "dbp - most_freq: 70.0\n"
     ]
    }
   ],
   "source": [
    "null_cols=['height','hct','rdw','plt','ca','hs_crp','ft3','ferritin','ob_yn','alc_freq','sbp','dbp']\n",
    "\n",
    "for col in null_cols:\n",
    "    print('{} - most_freq: {}'.format(col,data[col].mode()[0]))"
   ]
  },
  {
   "cell_type": "markdown",
   "metadata": {},
   "source": [
    "### 평균값 및 최빈값으로 missing value 처리"
   ]
  },
  {
   "cell_type": "code",
   "execution_count": 17,
   "metadata": {},
   "outputs": [],
   "source": [
    "fill_mean_cols=['height','hct','plt','hs_crp','ft3','ferritin']\n",
    "fill_mfv_cols=['ob_yn','alc_freq','rdw','ca','sbp','dbp']\n",
    "\n",
    "# map(lambda x: data[x].fillna(data[x].mean(),inplace=True),fill_mean_cols)\n",
    "# map(lambda x: data[x].fillna(data[x].mode()[0],inplace=True),fill_mfv_cols)\n",
    "\n",
    "for col in fill_mean_cols:\n",
    "    data[col].fillna(data[col].mean(),inplace=True)\n",
    "    \n",
    "for col in fill_mfv_cols:\n",
    "    data[col].fillna(data[col].mode()[0],inplace=True)"
   ]
  },
  {
   "cell_type": "code",
   "execution_count": 18,
   "metadata": {},
   "outputs": [
    {
     "name": "stdout",
     "output_type": "stream",
     "text": [
      "height      0\n",
      "hct         0\n",
      "plt         0\n",
      "hs_crp      0\n",
      "ft3         0\n",
      "ferritin    0\n",
      "dtype: int64\n",
      "ob_yn       0\n",
      "alc_freq    0\n",
      "rdw         0\n",
      "ca          0\n",
      "sbp         0\n",
      "dbp         0\n",
      "dtype: int64\n"
     ]
    }
   ],
   "source": [
    "print(data[fill_mean_cols].isnull().sum())\n",
    "print(data[fill_mfv_cols].isnull().sum())"
   ]
  },
  {
   "cell_type": "markdown",
   "metadata": {},
   "source": [
    "# imbalance 보정 - all features"
   ]
  },
  {
   "cell_type": "code",
   "execution_count": 19,
   "metadata": {},
   "outputs": [],
   "source": [
    "X=data.iloc[:,:-1]\n",
    "y=data.iloc[:,-1]"
   ]
  },
  {
   "cell_type": "code",
   "execution_count": 20,
   "metadata": {},
   "outputs": [],
   "source": [
    "from imblearn.under_sampling import RandomUnderSampler as down_sampler\n",
    "from imblearn.over_sampling import RandomOverSampler as up_sampler\n",
    "\n",
    "down=down_sampler(random_state=42)\n",
    "up=up_sampler(random_state=42)\n",
    "\n",
    "X_up,y_up=up.fit_resample(X,y)\n",
    "X_down,y_down=down.fit_resample(X,y)"
   ]
  },
  {
   "cell_type": "code",
   "execution_count": 21,
   "metadata": {},
   "outputs": [
    {
     "name": "stdout",
     "output_type": "stream",
     "text": [
      "UP sampling : 1-(74679, 51) 0-(64073, 51)\n",
      "Down sampling : 1-(1032, 51) 0-(888, 51)\n"
     ]
    }
   ],
   "source": [
    "print('UP sampling : 1-{} 0-{}'.format(X_up[X_up[:,-1]==1].shape,X_up[X_up[:,-1]==0].shape))\n",
    "print('Down sampling : 1-{} 0-{}'.format(X_down[X_down[:,-1]==1].shape,X_down[X_down[:,-1]==0].shape))"
   ]
  },
  {
   "cell_type": "code",
   "execution_count": 22,
   "metadata": {},
   "outputs": [],
   "source": [
    "from sklearn.model_selection import train_test_split\n",
    "\n",
    "X_train,X_test,y_train,y_test=train_test_split(X,y,test_size=0.3,random_state=42,stratify=y)\n",
    "\n",
    "X_up_train,X_up_test,y_up_train,y_up_test=train_test_split(X_up,y_up,test_size=0.3,random_state=42,stratify=y_up)\n",
    "X_down_train,X_down_test,y_down_train,y_down_test=train_test_split(X_down,y_down,test_size=0.3,random_state=42,stratify=y_down)"
   ]
  },
  {
   "cell_type": "code",
   "execution_count": 23,
   "metadata": {},
   "outputs": [
    {
     "name": "stdout",
     "output_type": "stream",
     "text": [
      "-----with no sampling-----\n",
      "Train acc : 98.64%\n",
      "Test acc : 98.64%\n",
      "\n",
      "-----with UP-sampling-----\n",
      "Train acc : 77.52%\n",
      "Test acc : 77.14%\n",
      "\n",
      "-----with DOWN-sampling-----\n",
      "Train acc : 85.12%\n",
      "Test acc : 62.50%\n",
      "\n"
     ]
    }
   ],
   "source": [
    "from xgboost.sklearn import XGBClassifier\n",
    "from sklearn.metrics import confusion_matrix, precision_recall_curve, accuracy_score, precision_score, recall_score\n",
    "\n",
    "xgb_=XGBClassifier()\n",
    "xgb1=XGBClassifier()\n",
    "xgb2=XGBClassifier()\n",
    "\n",
    "\n",
    "print('-----with no sampling-----')\n",
    "xgb_.fit(X,y)\n",
    "y_pred=xgb_.predict(X_test)\n",
    "print('Train acc : {:.2%}\\nTest acc : {:.2%}\\n'.format(xgb_.score(X_train,y_train),accuracy_score(y_test,y_pred)))\n",
    "\n",
    "print('-----with UP-sampling-----')\n",
    "xgb1.fit(X_up_train,y_up_train)\n",
    "y_up_pred=xgb1.predict(X_up_test)\n",
    "print('Train acc : {:.2%}\\nTest acc : {:.2%}\\n'.format(xgb1.score(X_up_train,y_up_train),accuracy_score(y_up_test,y_up_pred)))\n",
    "\n",
    "print('-----with DOWN-sampling-----')\n",
    "xgb2.fit(X_down_train,y_down_train)\n",
    "y_down_pred=xgb2.predict(X_down_test)\n",
    "print('Train acc : {:.2%}\\nTest acc : {:.2%}\\n'.format(xgb2.score(X_down_train,y_down_train),accuracy_score(y_down_test,y_down_pred)))"
   ]
  },
  {
   "cell_type": "markdown",
   "metadata": {},
   "source": [
    "=> generalization 측면에서 upsampling이 우월함\n",
    "\n",
    "=> sampling을 안했을 때 정확도가 훨씬 높지만 이것은 acrn_rn = 0인 데이터가 압도적으로 많아서 accuracy만 높은 것이다.\n",
    "\n",
    "=> 이렇게 imbalance한 데이터에 대해서는 precision / recall이 더 적절함"
   ]
  },
  {
   "cell_type": "code",
   "execution_count": 24,
   "metadata": {},
   "outputs": [
    {
     "data": {
      "image/png": "[encoded data removed]",
      "text/plain": [
       "<Figure size 432x288 with 1 Axes>"
      ]
     },
     "metadata": {
      "needs_background": "light"
     },
     "output_type": "display_data"
    },
    {
     "name": "stdout",
     "output_type": "stream",
     "text": [
      "-----with no sampling-----\n",
      "Precision Score : 1.0\n",
      "Recall Score : 0.0035\n"
     ]
    }
   ],
   "source": [
    "proba_=xgb_.predict_proba(X_test)\n",
    "proba_up=xgb1.predict_proba(X_up_test)\n",
    "proba_down=xgb2.predict_proba(X_down_test)\n",
    "\n",
    "proba_,proba_up,proba_down=proba_[:,1],proba_up[:,1],proba_down[:,1]\n",
    "\n",
    "\n",
    "pre,rec,thr=precision_recall_curve(y_test,proba_)\n",
    "plt.title('with no sampling')\n",
    "plt.plot(thr, pre[:-1], 'b--', label='precision')\n",
    "plt.plot(thr, rec[:-1], 'g--', label = 'recall')\n",
    "plt.xlabel('Threshold')\n",
    "plt.legend(loc='upper left')\n",
    "plt.ylim([0,1])\n",
    "plt.show()\n",
    "print('-----with no sampling-----')\n",
    "print('Precision Score : {:.2}'.format(precision_score(y_test,y_pred)))\n",
    "print('Recall Score : {:.2}'.format(recall_score(y_test,y_pred)))"
   ]
  },
  {
   "cell_type": "code",
   "execution_count": 25,
   "metadata": {},
   "outputs": [
    {
     "data": {
      "image/png": "[encoded data removed]",
      "text/plain": [
       "<Figure size 432x288 with 1 Axes>"
      ]
     },
     "metadata": {
      "needs_background": "light"
     },
     "output_type": "display_data"
    }
   ],
   "source": [
    "%matplotlib inline\n",
    "plt.plot(rec,pre)\n",
    "plt.xlabel('recall')\n",
    "plt.ylabel('precision')\n",
    "plt.show()"
   ]
  },
  {
   "cell_type": "markdown",
   "metadata": {},
   "source": [
    "=> recall이 거의 0에 가깝다 => 재현율이 떨어짐"
   ]
  },
  {
   "cell_type": "code",
   "execution_count": 26,
   "metadata": {},
   "outputs": [
    {
     "data": {
      "image/png": "[encoded data removed]",
      "text/plain": [
       "<Figure size 432x288 with 1 Axes>"
      ]
     },
     "metadata": {
      "needs_background": "light"
     },
     "output_type": "display_data"
    },
    {
     "name": "stdout",
     "output_type": "stream",
     "text": [
      "-----with up sampling-----\n",
      "Precision Score : 0.78\n",
      "Recall Score : 0.76\n"
     ]
    }
   ],
   "source": [
    "pre,rec,thr=precision_recall_curve(y_up_test,proba_up)\n",
    "plt.title('with up sampling')\n",
    "plt.plot(thr, pre[:-1], 'b--', label='precision')\n",
    "plt.plot(thr, rec[:-1], 'g--', label = 'recall')\n",
    "plt.xlabel('Threshold')\n",
    "plt.legend(loc='upper left')\n",
    "plt.ylim([0,1])\n",
    "plt.show()\n",
    "print('-----with up sampling-----')\n",
    "print('Precision Score : {:.2}'.format(precision_score(y_up_test,y_up_pred)))\n",
    "print('Recall Score : {:.2}'.format(recall_score(y_up_test,y_up_pred)))"
   ]
  },
  {
   "cell_type": "code",
   "execution_count": 27,
   "metadata": {},
   "outputs": [
    {
     "data": {
      "image/png": "[encoded data removed]",
      "text/plain": [
       "<Figure size 432x288 with 1 Axes>"
      ]
     },
     "metadata": {
      "needs_background": "light"
     },
     "output_type": "display_data"
    }
   ],
   "source": [
    "%matplotlib inline\n",
    "plt.plot(rec,pre)\n",
    "plt.xlabel('recall')\n",
    "plt.ylabel('precision')\n",
    "plt.show()"
   ]
  },
  {
   "cell_type": "code",
   "execution_count": 28,
   "metadata": {},
   "outputs": [
    {
     "data": {
      "image/png": "[encoded data removed]",
      "text/plain": [
       "<Figure size 432x288 with 1 Axes>"
      ]
     },
     "metadata": {
      "needs_background": "light"
     },
     "output_type": "display_data"
    },
    {
     "name": "stdout",
     "output_type": "stream",
     "text": [
      "-----with down sampling-----\n",
      "Precision Score : 0.62\n",
      "Recall Score : 0.63\n"
     ]
    }
   ],
   "source": [
    "pre,rec,thr=precision_recall_curve(y_down_test,proba_down)\n",
    "plt.title('with up sampling')\n",
    "plt.plot(thr, pre[:-1], 'b--', label='precision')\n",
    "plt.plot(thr, rec[:-1], 'g--', label = 'recall')\n",
    "plt.xlabel('Threshold')\n",
    "plt.legend(loc='upper left')\n",
    "plt.ylim([0,1])\n",
    "plt.show()\n",
    "print('-----with down sampling-----')\n",
    "print('Precision Score : {:.2}'.format(precision_score(y_down_test,y_down_pred)))\n",
    "print('Recall Score : {:.2}'.format(recall_score(y_down_test,y_down_pred)))"
   ]
  },
  {
   "cell_type": "code",
   "execution_count": 29,
   "metadata": {},
   "outputs": [
    {
     "data": {
      "image/png": "[encoded data removed]",
      "text/plain": [
       "<Figure size 432x288 with 1 Axes>"
      ]
     },
     "metadata": {
      "needs_background": "light"
     },
     "output_type": "display_data"
    }
   ],
   "source": [
    "%matplotlib inline\n",
    "plt.plot(rec,pre)\n",
    "plt.xlabel('recall')\n",
    "plt.ylabel('precision')\n",
    "plt.show()"
   ]
  },
  {
   "cell_type": "markdown",
   "metadata": {},
   "source": [
    "=> precision-recall graph 상에서 up/down sampling이 no sampling에 비해 우상향으로 꺾여 있으므로 더 적합하다"
   ]
  },
  {
   "cell_type": "markdown",
   "metadata": {},
   "source": [
    "# feature reduction"
   ]
  },
  {
   "cell_type": "markdown",
   "metadata": {},
   "source": [
    "비슷한 특성을 가지는 feature들을 group화 하여 각 group에서 PCA를 진행한 후에 concat하는 방법을 시도"
   ]
  },
  {
   "cell_type": "code",
   "execution_count": 30,
   "metadata": {},
   "outputs": [
    {
     "name": "stdout",
     "output_type": "stream",
     "text": [
      "up sampling Train : (97126, 51) Test : (41626, 51)\n"
     ]
    }
   ],
   "source": [
    "print('up sampling Train : {} Test : {}'.format(X_up_train.shape,X_up_test.shape),sep='  ')"
   ]
  },
  {
   "cell_type": "code",
   "execution_count": 31,
   "metadata": {},
   "outputs": [
    {
     "name": "stderr",
     "output_type": "stream",
     "text": [
      "C:\\ProgramData\\Anaconda3\\lib\\site-packages\\sklearn\\utils\\validation.py:752: DataConversionWarning: A column-vector y was passed when a 1d array was expected. Please change the shape of y to (n_samples, ), for example using ravel().\n",
      "  y = column_or_1d(y, warn=True)\n"
     ]
    }
   ],
   "source": [
    "X=data.loc[:,data.columns!='acrn_yn']\n",
    "y=data.loc[:,data.columns=='acrn_yn']\n",
    "\n",
    "X_up,y_up=up.fit_resample(X,y)"
   ]
  },
  {
   "cell_type": "code",
   "execution_count": 32,
   "metadata": {},
   "outputs": [],
   "source": [
    "X_up=pd.DataFrame(X_up,columns=X.columns)"
   ]
  },
  {
   "cell_type": "code",
   "execution_count": 33,
   "metadata": {},
   "outputs": [],
   "source": [
    "#related to weight #5 features => 1\n",
    "g1=['weight', 'bmi', 'obesity', 'wt_circ', 'abd_obe']\n",
    "\n",
    "#related to blood #10 features => 7 => 영향 많음\n",
    "g2=[ 'hba1c', 'hba1c_65','wbc', 'rbc', 'hb', 'hct', 'rdw', 'plt','ob_yn','ferritin']\n",
    "\n",
    "#related to nutrient #4 features => 1\n",
    "g3=['ca', 'glucose', 'glu_100','dm']\n",
    "\n",
    "#related to protein #4 features => 1\n",
    "g4=['prot', 'alb', 'glob', 'hs_crp']\n",
    "\n",
    "#related to life habit #3 features => 1\n",
    "g5=['alc_freq','smoke','exercise']\n",
    "\n",
    "#related to hormone #4 features => 1\n",
    "g6=['ldh','tsh', 'insulin', 'homa_ir']\n",
    "\n",
    "#related to cancer #9 features => 7 => 영향 많음\n",
    "g7=['meta_yn', 'mets_yn', 'meta_n', 'obe_meta','ft4','ft3','cea','ca_hx','crc_fhx']\n",
    "\n",
    "#related to blood pressure #3 features => 1\n",
    "g8=['htn', 'sbp', 'dbp']\n",
    "\n",
    "#related to lipid #7 features => 5 => 영향 많음\n",
    "g9=['t_chol',  'tg', 'tg_150', 'hdl', 'hdl_abnl', 'ldl']\n",
    "\n",
    "#related to personal stat #3 features => 1\n",
    "g10=['sex', 'age', 'height'] "
   ]
  },
  {
   "cell_type": "code",
   "execution_count": 34,
   "metadata": {},
   "outputs": [],
   "source": [
    "datas=[X_up[g1],X_up[g2],X_up[g3],X_up[g4],X_up[g5],X_up[g6],X_up[g7],X_up[g8],X_up[g9],X_up[g10]]\n",
    "# datas=[X_up[g1],X_up[g3],X_up[g4],X_up[g5],X_up[g6],X_up[g8],X_up[g10]]\n",
    "y=data['acrn_yn']"
   ]
  },
  {
   "cell_type": "code",
   "execution_count": 35,
   "metadata": {},
   "outputs": [
    {
     "data": {
      "text/plain": [
       "(138752, 51)"
      ]
     },
     "execution_count": 35,
     "metadata": {},
     "output_type": "execute_result"
    }
   ],
   "source": [
    "X_up.shape"
   ]
  },
  {
   "cell_type": "code",
   "execution_count": 36,
   "metadata": {},
   "outputs": [],
   "source": [
    "from sklearn.decomposition import PCA\n",
    "nums=[1,7,1,1,1,1,7,1,5,1]\n",
    "pcas=[]\n",
    "reduced=[]\n",
    "\n",
    "for i in range(10):\n",
    "    pcas.append(PCA(n_components=nums[i]))\n",
    "    reduced.append(pcas[i].fit_transform(datas[i],y_up))\n",
    "    \n",
    "X_concat=np.hstack(reduced)\n",
    "# X_concat_all=np.hstack([X_concat,X_up[g2].values,X_up[g7].values,X_up[g9].values])"
   ]
  },
  {
   "cell_type": "code",
   "execution_count": 37,
   "metadata": {},
   "outputs": [
    {
     "data": {
      "text/plain": [
       "(138752, 26)"
      ]
     },
     "execution_count": 37,
     "metadata": {},
     "output_type": "execute_result"
    }
   ],
   "source": [
    "X_concat.shape"
   ]
  },
  {
   "cell_type": "code",
   "execution_count": 38,
   "metadata": {},
   "outputs": [],
   "source": [
    "X_train,X_test,y_train,y_test=train_test_split(X_concat,y_up,test_size=0.3,stratify=y_up)"
   ]
  },
  {
   "cell_type": "code",
   "execution_count": 39,
   "metadata": {},
   "outputs": [
    {
     "data": {
      "text/plain": [
       "0.7614231489934176"
      ]
     },
     "execution_count": 39,
     "metadata": {},
     "output_type": "execute_result"
    }
   ],
   "source": [
    "clf=XGBClassifier()\n",
    "clf.fit(X_train,y_train)\n",
    "pred=clf.predict(X_test)\n",
    "accuracy_score(y_test,pred)"
   ]
  },
  {
   "cell_type": "code",
   "execution_count": 40,
   "metadata": {},
   "outputs": [
    {
     "data": {
      "text/plain": [
       "0.7727591738520152"
      ]
     },
     "execution_count": 40,
     "metadata": {},
     "output_type": "execute_result"
    }
   ],
   "source": [
    "precision_score(y_test,pred)"
   ]
  },
  {
   "cell_type": "code",
   "execution_count": 41,
   "metadata": {},
   "outputs": [
    {
     "data": {
      "text/plain": [
       "XGBClassifier(base_score=0.5, booster='gbtree', colsample_bylevel=1,\n",
       "       colsample_bytree=1, gamma=0, learning_rate=0.1, max_delta_step=0,\n",
       "       max_depth=3, min_child_weight=1, missing=None, n_estimators=100,\n",
       "       n_jobs=1, nthread=None, objective='binary:logistic', random_state=0,\n",
       "       reg_alpha=0, reg_lambda=1, scale_pos_weight=1, seed=None,\n",
       "       silent=True, subsample=1)"
      ]
     },
     "execution_count": 41,
     "metadata": {},
     "output_type": "execute_result"
    }
   ],
   "source": [
    "clf"
   ]
  },
  {
   "cell_type": "markdown",
   "metadata": {},
   "source": [
    "# grid search "
   ]
  },
  {
   "cell_type": "markdown",
   "metadata": {},
   "source": [
    "max_depth / min_child_weight"
   ]
  },
  {
   "cell_type": "code",
   "execution_count": 44,
   "metadata": {},
   "outputs": [
    {
     "name": "stdout",
     "output_type": "stream",
     "text": [
      "{'max_depth': 9, 'min_child_weight': 1}\n",
      "0.9929473055618475\n"
     ]
    }
   ],
   "source": [
    "from sklearn.model_selection import GridSearchCV\n",
    "\n",
    "param_test1={\n",
    "    'max_depth':range(3,10,2),\n",
    "    'min_child_weight':range(1,6,2)\n",
    "}\n",
    "\n",
    "grid_search1=GridSearchCV(estimator=XGBClassifier(learning_rate=0.1,n_estimators=100,\n",
    "                                                 max_depth=3, min_child_weight=1,\n",
    "                                                  gamma=0,subsample=1),\n",
    "                         param_grid=param_test1,\n",
    "                         n_jobs=4,cv=5)\n",
    "\n",
    "grid_search1.fit(X_train,y_train)\n",
    "\n",
    "print(grid_search1.best_params_, grid_search1.best_score_,sep='\\n')"
   ]
  },
  {
   "cell_type": "markdown",
   "metadata": {},
   "source": [
    "# RFE feature selection"
   ]
  },
  {
   "cell_type": "code",
   "execution_count": 45,
   "metadata": {},
   "outputs": [],
   "source": [
    "X_up_train=pd.DataFrame(X_up_train,columns=X.columns)\n",
    "X_up_test=pd.DataFrame(X_up_test,columns=X.columns)"
   ]
  },
  {
   "cell_type": "code",
   "execution_count": 77,
   "metadata": {},
   "outputs": [
    {
     "name": "stdout",
     "output_type": "stream",
     "text": [
      "Index(['age', 'height', 'wt_circ', 'wbc', 'rbc', 'hb', 'glucose', 'prot',\n",
      "       't_chol', 'ldh', 'cea', 'ft3', 'homa_ir', 'ferritin', 'ob_yn'],\n",
      "      dtype='object')\n"
     ]
    }
   ],
   "source": [
    "from sklearn.feature_selection import RFE\n",
    "\n",
    "clf_xgb=XGBClassifier()\n",
    "selector=RFE(clf_xgb,15,step=1)\n",
    "selector.fit(X_up_train,y_up_train)\n",
    "rank=selector.ranking_\n",
    "\n",
    "selection=X_up_train.columns[rank==1]\n",
    "\n",
    "X_up_train_sel=X_up_train[selection]\n",
    "X_up_test_sel=X_up_test[selection]\n",
    "\n",
    "print(selection)"
   ]
  },
  {
   "cell_type": "code",
   "execution_count": 82,
   "metadata": {},
   "outputs": [
    {
     "name": "stderr",
     "output_type": "stream",
     "text": [
      "C:\\ProgramData\\Anaconda3\\lib\\site-packages\\sklearn\\preprocessing\\label.py:219: DataConversionWarning: A column-vector y was passed when a 1d array was expected. Please change the shape of y to (n_samples, ), for example using ravel().\n",
      "  y = column_or_1d(y, warn=True)\n",
      "C:\\ProgramData\\Anaconda3\\lib\\site-packages\\sklearn\\preprocessing\\label.py:252: DataConversionWarning: A column-vector y was passed when a 1d array was expected. Please change the shape of y to (n_samples, ), for example using ravel().\n",
      "  y = column_or_1d(y, warn=True)\n"
     ]
    },
    {
     "name": "stdout",
     "output_type": "stream",
     "text": [
      "0.7432854465958776\n",
      "0.7561851758158361\n"
     ]
    }
   ],
   "source": [
    "xgb=XGBClassifier()\n",
    "xgb.fit(X_up_train_sel,y_up_train)\n",
    "pred=xgb.predict(X_up_test_sel)\n",
    "\n",
    "print(accuracy_score(y_up_test,pred))\n",
    "print(precision_score(y_up_test,pred))"
   ]
  },
  {
   "cell_type": "code",
   "execution_count": null,
   "metadata": {},
   "outputs": [],
   "source": []
  },
  {
   "cell_type": "code",
   "execution_count": null,
   "metadata": {},
   "outputs": [],
   "source": []
  }
 ],
 "metadata": {
  "kernelspec": {
   "display_name": "Python 3",
   "language": "python",
   "name": "python3"
  },
  "language_info": {
   "codemirror_mode": {
    "name": "ipython",
    "version": 3
   },
   "file_extension": ".py",
   "mimetype": "text/x-python",
   "name": "python",
   "nbconvert_exporter": "python",
   "pygments_lexer": "ipython3",
   "version": "3.6.7"
  }
 },
 "nbformat": 4,
 "nbformat_minor": 2
}
