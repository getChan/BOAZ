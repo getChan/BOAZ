{
  "nbformat": 4,
  "nbformat_minor": 0,
  "metadata": {
    "colab": {
      "name": "공동세션.ipynb",
      "version": "0.3.2",
      "provenance": [],
      "collapsed_sections": [],
      "include_colab_link": true
    },
    "kernelspec": {
      "name": "python3",
      "display_name": "Python 3"
    }
  },
  "cells": [
    {
      "cell_type": "markdown",
      "metadata": {
        "id": "view-in-github",
        "colab_type": "text"
      },
      "source": [
        "<a href=\"https://colab.research.google.com/github/getChan/BOAZ/blob/master/Session/%EA%B3%B5%EB%8F%99%EC%84%B8%EC%85%98.ipynb\" target=\"_parent\"><img src=\"https://colab.research.google.com/assets/colab-badge.svg\" alt=\"Open In Colab\"/></a>"
      ]
    },
    {
      "cell_type": "markdown",
      "metadata": {
        "id": "V8uEDN8pAlyC",
        "colab_type": "text"
      },
      "source": [
        "![BOAZ](https://cafefiles.pstatic.net/MjAxODA4MjVfMTkx/MDAxNTM1MTc5Mzc0NDY4.4LeTrmxvElaMCtto9TjHMzjQSFMQ0DE0ENc2WfBa7t0g.DCyjHWWmBDign_XRGQZnIJRlE4OAnLjKFWD_MrLzHAgg.PNG.gafield8785/10892059-7ae1-4613-9ab0-f36dced95864.pdf-0001.png)\n",
        "\n",
        "# Jupyter notebook으로 생산성 높이기\n",
        "\n",
        "## 1. [마크다운 문법](https://gist.github.com/ihoneymon/652be052a0727ad59601)을 사용할 수 있다.\n",
        "\n",
        "- [*LaTeX*](http://tomoyo.ivyro.net/123/wiki.php/TeX_%EB%B0%8F_LaTeX_%EC%88%98%EC%8B%9D_%EB%AC%B8%EB%B2%95)수식도 입력할 수 있다!\n",
        "\n",
        "  - $RMSE = \\sqrt{\\frac{1}{n}\\sum_{i=1}^n(y_i-\\hat y_i)^2}$\n",
        "  \n",
        "  - $$ RMSE = \\sqrt{\\frac{1}{n}\\sum_{i=1}^n(y_i-\\hat y_i)^2} $$\n",
        "  \n",
        "- 코드도 예쁘게 표현할 수 있다.\n",
        "\n",
        "   - `print(\"Hello World!\")`\n",
        "   \n",
        "   - \n",
        "   ```python\n",
        "   print(\"Hello World!\")\n",
        "   ```\n",
        "\n",
        "> [GitHub](에서도 그대로 적용되서 볼 수 있다!\n",
        "\n"
      ]
    },
    {
      "cell_type": "markdown",
      "metadata": {
        "id": "0uQG1eWEEmlS",
        "colab_type": "text"
      },
      "source": [
        "## 2. 매직 메서드\n",
        " \n",
        " `!` :  쉘 명령어를 사용할 수 있다. Colab은 linux os입니다."
      ]
    },
    {
      "cell_type": "markdown",
      "metadata": {
        "id": "0oW0LB6gAOCF",
        "colab_type": "text"
      },
      "source": [
        ""
      ]
    },
    {
      "cell_type": "code",
      "metadata": {
        "id": "tKPomwtdBVGA",
        "colab_type": "code",
        "colab": {}
      },
      "source": [
        ""
      ],
      "execution_count": 0,
      "outputs": []
    },
    {
      "cell_type": "code",
      "metadata": {
        "id": "qHodSw2o_CIO",
        "colab_type": "code",
        "colab": {}
      },
      "source": [
        ""
      ],
      "execution_count": 0,
      "outputs": []
    },
    {
      "cell_type": "code",
      "metadata": {
        "id": "nv3_G8nw_JLJ",
        "colab_type": "code",
        "colab": {}
      },
      "source": [
        ""
      ],
      "execution_count": 0,
      "outputs": []
    }
  ]
}