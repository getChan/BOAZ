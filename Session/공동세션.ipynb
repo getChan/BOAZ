{
  "nbformat": 4,
  "nbformat_minor": 0,
  "metadata": {
    "colab": {
      "name": "공동세션.ipynb",
      "version": "0.3.2",
      "provenance": [],
      "collapsed_sections": [],
      "include_colab_link": true
    },
    "kernelspec": {
      "name": "python3",
      "display_name": "Python 3"
    }
  },
  "cells": [
    {
      "cell_type": "markdown",
      "metadata": {
        "id": "view-in-github",
        "colab_type": "text"
      },
      "source": [
        "<a href=\"https://colab.research.google.com/github/getChan/BOAZ/blob/master/Session/%EA%B3%B5%EB%8F%99%EC%84%B8%EC%85%98.ipynb\" target=\"_parent\"><img src=\"https://colab.research.google.com/assets/colab-badge.svg\" alt=\"Open In Colab\"/></a>"
      ]
    },
    {
      "cell_type": "markdown",
      "metadata": {
        "id": "V8uEDN8pAlyC",
        "colab_type": "text"
      },
      "source": [
        "![BOAZ](https://cafefiles.pstatic.net/MjAxODA4MjVfMTkx/MDAxNTM1MTc5Mzc0NDY4.4LeTrmxvElaMCtto9TjHMzjQSFMQ0DE0ENc2WfBa7t0g.DCyjHWWmBDign_XRGQZnIJRlE4OAnLjKFWD_MrLzHAgg.PNG.gafield8785/10892059-7ae1-4613-9ab0-f36dced95864.pdf-0001.png)\n",
        "\n",
        "# Jupyter notebook으로 생산성 높이기\n",
        "\n",
        "## 1. [마크다운 문법](https://gist.github.com/ihoneymon/652be052a0727ad59601)을 사용할 수 있다.\n",
        "\n",
        "- [*LaTeX*](http://tomoyo.ivyro.net/123/wiki.php/TeX_%EB%B0%8F_LaTeX_%EC%88%98%EC%8B%9D_%EB%AC%B8%EB%B2%95) 문법으로 수식도 입력할 수 있다!\n",
        "\n",
        "  - $RMSE = \\sqrt{\\frac{1}{n}\\sum_{i=1}^n(y_i-\\hat y_i)^2}$\n",
        "  \n",
        "  - $$ RMSE = \\sqrt{\\frac{1}{n}\\sum_{i=1}^n(y_i-\\hat y_i)^2} $$\n",
        "  \n",
        "- 코드도 예쁘게 표현할 수 있다.\n",
        "\n",
        "   - `print(\"Hello World!\")`\n",
        "   \n",
        "   - \n",
        "   ```python\n",
        "   print(\"Hello World!\")\n",
        "   ```\n",
        "\n",
        "> [GitHub](https://github.com/getChan/BOAZ/blob/master/Session/%EA%B3%B5%EB%8F%99%EC%84%B8%EC%85%98.ipynb)에서도 그대로 적용되서 볼 수 있다!\n",
        "\n"
      ]
    },
    {
      "cell_type": "markdown",
      "metadata": {
        "id": "HPe6dxMKHqXB",
        "colab_type": "text"
      },
      "source": [
        "## 2. 매직 메서드"
      ]
    },
    {
      "cell_type": "code",
      "metadata": {
        "id": "XVtz8VHmHu6Q",
        "colab_type": "code",
        "colab": {}
      },
      "source": [
        "%magic"
      ],
      "execution_count": 0,
      "outputs": []
    },
    {
      "cell_type": "code",
      "metadata": {
        "id": "horwW1a8IEYM",
        "colab_type": "code",
        "colab": {
          "base_uri": "https://localhost:8080/",
          "height": 160
        },
        "outputId": "ee4e5451-7b1e-4004-f934-4c7df94e6653"
      },
      "source": [
        "%lsmagic"
      ],
      "execution_count": 6,
      "outputs": [
        {
          "output_type": "execute_result",
          "data": {
            "application/json": {
              "cell": {
                "prun": "ExecutionMagics",
                "file": "Other",
                "!": "OSMagics",
                "capture": "ExecutionMagics",
                "timeit": "ExecutionMagics",
                "script": "ScriptMagics",
                "pypy": "Other",
                "system": "OSMagics",
                "perl": "Other",
                "html": "DisplayMagics",
                "bash": "Other",
                "shell": "Other",
                "HTML": "Other",
                "python": "Other",
                "SVG": "Other",
                "javascript": "DisplayMagics",
                "bigquery": "Other",
                "js": "DisplayMagics",
                "writefile": "OSMagics",
                "ruby": "Other",
                "python3": "Other",
                "python2": "Other",
                "latex": "DisplayMagics",
                "sx": "OSMagics",
                "svg": "DisplayMagics",
                "sh": "Other",
                "time": "ExecutionMagics",
                "debug": "ExecutionMagics"
              },
              "line": {
                "psource": "NamespaceMagics",
                "logstart": "LoggingMagics",
                "popd": "OSMagics",
                "tensorflow_version": "Other",
                "loadpy": "CodeMagics",
                "colors": "BasicMagics",
                "who_ls": "NamespaceMagics",
                "lf": "Other",
                "ll": "Other",
                "pprint": "BasicMagics",
                "lk": "Other",
                "ls": "Other",
                "save": "CodeMagics",
                "tb": "ExecutionMagics",
                "lx": "Other",
                "pylab": "PylabMagics",
                "killbgscripts": "ScriptMagics",
                "quickref": "BasicMagics",
                "magic": "BasicMagics",
                "dhist": "OSMagics",
                "edit": "KernelMagics",
                "logstop": "LoggingMagics",
                "gui": "BasicMagics",
                "prun": "ExecutionMagics",
                "debug": "ExecutionMagics",
                "page": "BasicMagics",
                "logstate": "LoggingMagics",
                "ed": "Other",
                "pushd": "OSMagics",
                "timeit": "ExecutionMagics",
                "set_env": "OSMagics",
                "rehashx": "OSMagics",
                "hist": "Other",
                "qtconsole": "KernelMagics",
                "rm": "Other",
                "dirs": "OSMagics",
                "run": "ExecutionMagics",
                "reset_selective": "NamespaceMagics",
                "pinfo2": "NamespaceMagics",
                "matplotlib": "PylabMagics",
                "unload_ext": "ExtensionMagics",
                "doctest_mode": "BasicMagics",
                "logoff": "LoggingMagics",
                "reload_ext": "ExtensionMagics",
                "pdb": "ExecutionMagics",
                "load": "CodeMagics",
                "lsmagic": "BasicMagics",
                "autosave": "KernelMagics",
                "cd": "OSMagics",
                "pastebin": "CodeMagics",
                "alias_magic": "BasicMagics",
                "cp": "Other",
                "autocall": "AutoMagics",
                "ldir": "Other",
                "bookmark": "OSMagics",
                "connect_info": "KernelMagics",
                "mkdir": "Other",
                "system": "OSMagics",
                "whos": "NamespaceMagics",
                "rmdir": "Other",
                "automagic": "AutoMagics",
                "store": "StoreMagics",
                "more": "KernelMagics",
                "shell": "Other",
                "pdef": "NamespaceMagics",
                "precision": "BasicMagics",
                "pinfo": "NamespaceMagics",
                "pwd": "OSMagics",
                "psearch": "NamespaceMagics",
                "reset": "NamespaceMagics",
                "recall": "HistoryMagics",
                "xdel": "NamespaceMagics",
                "xmode": "BasicMagics",
                "cat": "Other",
                "mv": "Other",
                "rerun": "HistoryMagics",
                "logon": "LoggingMagics",
                "history": "HistoryMagics",
                "pycat": "OSMagics",
                "pip": "Other",
                "unalias": "OSMagics",
                "env": "OSMagics",
                "load_ext": "ExtensionMagics",
                "config": "ConfigMagics",
                "profile": "BasicMagics",
                "pfile": "NamespaceMagics",
                "less": "KernelMagics",
                "who": "NamespaceMagics",
                "notebook": "BasicMagics",
                "man": "KernelMagics",
                "sx": "OSMagics",
                "macro": "ExecutionMagics",
                "clear": "KernelMagics",
                "alias": "OSMagics",
                "time": "ExecutionMagics",
                "sc": "OSMagics",
                "rep": "Other",
                "pdoc": "NamespaceMagics"
              }
            },
            "text/plain": [
              "Available line magics:\n",
              "%alias  %alias_magic  %autocall  %automagic  %autosave  %bookmark  %cat  %cd  %clear  %colors  %config  %connect_info  %cp  %debug  %dhist  %dirs  %doctest_mode  %ed  %edit  %env  %gui  %hist  %history  %killbgscripts  %ldir  %less  %lf  %lk  %ll  %load  %load_ext  %loadpy  %logoff  %logon  %logstart  %logstate  %logstop  %ls  %lsmagic  %lx  %macro  %magic  %man  %matplotlib  %mkdir  %more  %mv  %notebook  %page  %pastebin  %pdb  %pdef  %pdoc  %pfile  %pinfo  %pinfo2  %pip  %popd  %pprint  %precision  %profile  %prun  %psearch  %psource  %pushd  %pwd  %pycat  %pylab  %qtconsole  %quickref  %recall  %rehashx  %reload_ext  %rep  %rerun  %reset  %reset_selective  %rm  %rmdir  %run  %save  %sc  %set_env  %shell  %store  %sx  %system  %tb  %tensorflow_version  %time  %timeit  %unalias  %unload_ext  %who  %who_ls  %whos  %xdel  %xmode\n",
              "\n",
              "Available cell magics:\n",
              "%%!  %%HTML  %%SVG  %%bash  %%bigquery  %%capture  %%debug  %%file  %%html  %%javascript  %%js  %%latex  %%perl  %%prun  %%pypy  %%python  %%python2  %%python3  %%ruby  %%script  %%sh  %%shell  %%svg  %%sx  %%system  %%time  %%timeit  %%writefile\n",
              "\n",
              "Automagic is ON, % prefix IS NOT needed for line magics."
            ]
          },
          "metadata": {
            "tags": []
          },
          "execution_count": 6
        }
      ]
    },
    {
      "cell_type": "code",
      "metadata": {
        "id": "xq6AiaRXILTg",
        "colab_type": "code",
        "colab": {
          "base_uri": "https://localhost:8080/",
          "height": 52
        },
        "outputId": "afea27c4-759b-4a8b-85b9-366440501dff"
      },
      "source": [
        "%ls"
      ],
      "execution_count": 8,
      "outputs": [
        {
          "output_type": "stream",
          "text": [
            " \u001b[0m\u001b[01;34masset\u001b[0m/         geodata.zip      'map, apply.ipynb'   vis1.json   vis3.json\n",
            " Folium.ipynb   geopandas.ipynb   \u001b[01;34msample_data\u001b[0m/        vis2.json   vis4.json\n"
          ],
          "name": "stdout"
        }
      ]
    },
    {
      "cell_type": "code",
      "metadata": {
        "id": "NII99yEaIcQv",
        "colab_type": "code",
        "colab": {
          "base_uri": "https://localhost:8080/",
          "height": 706
        },
        "outputId": "d547cb04-c016-4a8f-bfcd-68b537a449c0"
      },
      "source": [
        "%env"
      ],
      "execution_count": 9,
      "outputs": [
        {
          "output_type": "execute_result",
          "data": {
            "text/plain": [
              "{'CLICOLOR': '1',\n",
              " 'CLOUDSDK_CONFIG': '/content/.config',\n",
              " 'COLAB_GPU': '0',\n",
              " 'CUDA_PKG_VERSION': '10-0=10.0.130-1',\n",
              " 'CUDA_VERSION': '10.0.130',\n",
              " 'CUDNN_VERSION': '7.6.2.24',\n",
              " 'DATALAB_SETTINGS_OVERRIDES': '{\"kernelManagerProxyPort\":6000,\"kernelManagerProxyHost\":\"172.28.0.3\",\"jupyterArgs\":[\"--ip=\\\\\"172.28.0.2\\\\\"\"]}',\n",
              " 'DEBIAN_FRONTEND': 'noninteractive',\n",
              " 'ENV': '/root/.bashrc',\n",
              " 'GCS_READ_CACHE_BLOCK_SIZE_MB': '16',\n",
              " 'GIT_PAGER': 'cat',\n",
              " 'GLIBCPP_FORCE_NEW': '1',\n",
              " 'GLIBCXX_FORCE_NEW': '1',\n",
              " 'HOME': '/root',\n",
              " 'HOSTNAME': '6bdd4dd209ac',\n",
              " 'JPY_PARENT_PID': '26',\n",
              " 'LANG': 'en_US.UTF-8',\n",
              " 'LAST_FORCED_REBUILD': '20190507',\n",
              " 'LD_LIBRARY_PATH': '/usr/local/nvidia/lib:/usr/local/nvidia/lib64',\n",
              " 'LD_PRELOAD': '/usr/lib/x86_64-linux-gnu/libtcmalloc.so.4',\n",
              " 'LIBRARY_PATH': '/usr/local/cuda/lib64/stubs',\n",
              " 'MPLBACKEND': 'module://ipykernel.pylab.backend_inline',\n",
              " 'NCCL_VERSION': '2.4.7',\n",
              " 'NO_GCE_CHECK': 'True',\n",
              " 'NVIDIA_DRIVER_CAPABILITIES': 'compute,utility',\n",
              " 'NVIDIA_REQUIRE_CUDA': 'cuda>=10.0 brand=tesla,driver>=384,driver<385 brand=tesla,driver>=410,driver<411',\n",
              " 'NVIDIA_VISIBLE_DEVICES': 'all',\n",
              " 'OLDPWD': '/',\n",
              " 'PAGER': 'cat',\n",
              " 'PATH': '/usr/local/nvidia/bin:/usr/local/cuda/bin:/usr/local/sbin:/usr/local/bin:/usr/sbin:/usr/bin:/sbin:/bin:/tools/node/bin:/tools/google-cloud-sdk/bin:/opt/bin',\n",
              " 'PWD': '/',\n",
              " 'PYTHONPATH': '/env/python',\n",
              " 'PYTHONWARNINGS': 'ignore:::pip._internal.cli.base_command',\n",
              " 'SHELL': '/bin/bash',\n",
              " 'SHLVL': '1',\n",
              " 'TERM': 'xterm-color',\n",
              " 'TF_FORCE_GPU_ALLOW_GROWTH': 'true',\n",
              " '_': '/tools/node/bin/node'}"
            ]
          },
          "metadata": {
            "tags": []
          },
          "execution_count": 9
        }
      ]
    },
    {
      "cell_type": "code",
      "metadata": {
        "id": "g757By86IfF4",
        "colab_type": "code",
        "colab": {}
      },
      "source": [
        "%mkdir temp"
      ],
      "execution_count": 0,
      "outputs": []
    },
    {
      "cell_type": "code",
      "metadata": {
        "id": "aYHswPTSIzM6",
        "colab_type": "code",
        "colab": {}
      },
      "source": [
        "%rmdir temp"
      ],
      "execution_count": 0,
      "outputs": []
    },
    {
      "cell_type": "code",
      "metadata": {
        "id": "_2_7CBT2LKfo",
        "colab_type": "code",
        "colab": {
          "base_uri": "https://localhost:8080/",
          "height": 52
        },
        "outputId": "6b8c760f-8b1e-4652-d137-de7dd15f4499"
      },
      "source": [
        "%%time\n",
        "# %두개는 셀 명령어\n",
        "for i in range(100000):\n",
        "  i+1"
      ],
      "execution_count": 35,
      "outputs": [
        {
          "output_type": "stream",
          "text": [
            "CPU times: user 11.1 ms, sys: 1.95 ms, total: 13.1 ms\n",
            "Wall time: 20.1 ms\n"
          ],
          "name": "stdout"
        }
      ]
    },
    {
      "cell_type": "code",
      "metadata": {
        "id": "EQUOKpnQL2mY",
        "colab_type": "code",
        "colab": {
          "base_uri": "https://localhost:8080/",
          "height": 34
        },
        "outputId": "23e4ccf9-178a-4099-c373-591d15b74f17"
      },
      "source": [
        "%%timeit\n",
        "# 여러번 실행해서 평균시간 보여준다\n",
        "for i in range(100000):\n",
        "  i+1"
      ],
      "execution_count": 36,
      "outputs": [
        {
          "output_type": "stream",
          "text": [
            "100 loops, best of 3: 5.55 ms per loop\n"
          ],
          "name": "stdout"
        }
      ]
    },
    {
      "cell_type": "code",
      "metadata": {
        "id": "rgPGBoBZOPri",
        "colab_type": "code",
        "colab": {
          "base_uri": "https://localhost:8080/",
          "height": 34
        },
        "outputId": "b4ad731d-ac5e-46c4-cc7a-c762afc8e503"
      },
      "source": [
        "%%writefile a.json\n",
        "b\n",
        "o\n",
        "a\n",
        "z"
      ],
      "execution_count": 57,
      "outputs": [
        {
          "output_type": "stream",
          "text": [
            "Writing a.json\n"
          ],
          "name": "stdout"
        }
      ]
    },
    {
      "cell_type": "code",
      "metadata": {
        "id": "SsATGWJXOtSZ",
        "colab_type": "code",
        "colab": {
          "base_uri": "https://localhost:8080/",
          "height": 87
        },
        "outputId": "dd082b43-90d1-40d6-8790-fb1d13657f38"
      },
      "source": [
        "%cat a.json"
      ],
      "execution_count": 58,
      "outputs": [
        {
          "output_type": "stream",
          "text": [
            "b\n",
            "o\n",
            "a\n",
            "z"
          ],
          "name": "stdout"
        }
      ]
    },
    {
      "cell_type": "markdown",
      "metadata": {
        "id": "0uQG1eWEEmlS",
        "colab_type": "text"
      },
      "source": [
        "\n",
        " ### `!` : 쉘 명령어를 사용할 수 있다. Colab은 linux OS 기반입니다."
      ]
    },
    {
      "cell_type": "code",
      "metadata": {
        "id": "t-sl26tiPAfV",
        "colab_type": "code",
        "colab": {
          "base_uri": "https://localhost:8080/",
          "height": 336
        },
        "outputId": "7eb13a4c-4009-4748-ec0a-b967a7b2c729"
      },
      "source": [
        "!pip install watermark"
      ],
      "execution_count": 59,
      "outputs": [
        {
          "output_type": "stream",
          "text": [
            "Collecting watermark\n",
            "  Downloading https://files.pythonhosted.org/packages/c3/d4/2e7defa324d8188067e2362a023c4284935c940006306107cf3fee7f31e2/watermark-1.8.2-py2.py3-none-any.whl\n",
            "Requirement already satisfied: ipython in /usr/local/lib/python3.6/dist-packages (from watermark) (5.5.0)\n",
            "Requirement already satisfied: setuptools>=18.5 in /usr/local/lib/python3.6/dist-packages (from ipython->watermark) (41.0.1)\n",
            "Requirement already satisfied: prompt-toolkit<2.0.0,>=1.0.4 in /usr/local/lib/python3.6/dist-packages (from ipython->watermark) (1.0.16)\n",
            "Requirement already satisfied: simplegeneric>0.8 in /usr/local/lib/python3.6/dist-packages (from ipython->watermark) (0.8.1)\n",
            "Requirement already satisfied: decorator in /usr/local/lib/python3.6/dist-packages (from ipython->watermark) (4.4.0)\n",
            "Requirement already satisfied: traitlets>=4.2 in /usr/local/lib/python3.6/dist-packages (from ipython->watermark) (4.3.2)\n",
            "Requirement already satisfied: pexpect; sys_platform != \"win32\" in /usr/local/lib/python3.6/dist-packages (from ipython->watermark) (4.7.0)\n",
            "Requirement already satisfied: pygments in /usr/local/lib/python3.6/dist-packages (from ipython->watermark) (2.1.3)\n",
            "Requirement already satisfied: pickleshare in /usr/local/lib/python3.6/dist-packages (from ipython->watermark) (0.7.5)\n",
            "Requirement already satisfied: six>=1.9.0 in /usr/local/lib/python3.6/dist-packages (from prompt-toolkit<2.0.0,>=1.0.4->ipython->watermark) (1.12.0)\n",
            "Requirement already satisfied: wcwidth in /usr/local/lib/python3.6/dist-packages (from prompt-toolkit<2.0.0,>=1.0.4->ipython->watermark) (0.1.7)\n",
            "Requirement already satisfied: ipython-genutils in /usr/local/lib/python3.6/dist-packages (from traitlets>=4.2->ipython->watermark) (0.2.0)\n",
            "Requirement already satisfied: ptyprocess>=0.5 in /usr/local/lib/python3.6/dist-packages (from pexpect; sys_platform != \"win32\"->ipython->watermark) (0.6.0)\n",
            "Installing collected packages: watermark\n",
            "Successfully installed watermark-1.8.2\n"
          ],
          "name": "stdout"
        }
      ]
    },
    {
      "cell_type": "code",
      "metadata": {
        "id": "ecY7iF8oPF7J",
        "colab_type": "code",
        "colab": {}
      },
      "source": [
        "%load_ext watermark"
      ],
      "execution_count": 0,
      "outputs": []
    },
    {
      "cell_type": "code",
      "metadata": {
        "id": "l9Mwtt_ZPMBk",
        "colab_type": "code",
        "colab": {
          "base_uri": "https://localhost:8080/",
          "height": 158
        },
        "outputId": "c6af7efc-0cd0-4995-be12-8de382cfd311"
      },
      "source": [
        "%watermark -a Chan -d -v -p numpy,pandas,sklearn"
      ],
      "execution_count": 63,
      "outputs": [
        {
          "output_type": "stream",
          "text": [
            "Chan 2019-08-08 \n",
            "\n",
            "CPython 3.6.8\n",
            "IPython 5.5.0\n",
            "\n",
            "numpy 1.16.4\n",
            "pandas 0.24.2\n",
            "sklearn 0.21.3\n"
          ],
          "name": "stdout"
        }
      ]
    },
    {
      "cell_type": "markdown",
      "metadata": {
        "id": "ttCSo4_rQxDt",
        "colab_type": "text"
      },
      "source": [
        "## Interactive Widgets"
      ]
    },
    {
      "cell_type": "code",
      "metadata": {
        "id": "2jJap7lCQh1t",
        "colab_type": "code",
        "colab": {}
      },
      "source": [
        "import IPython"
      ],
      "execution_count": 0,
      "outputs": []
    },
    {
      "cell_type": "code",
      "metadata": {
        "id": "tm8lm4P2RR5v",
        "colab_type": "code",
        "colab": {
          "base_uri": "https://localhost:8080/",
          "height": 650
        },
        "outputId": "d029dec4-050a-43e8-868a-768cd5ba1585"
      },
      "source": [
        "dir(IPython)"
      ],
      "execution_count": 4,
      "outputs": [
        {
          "output_type": "execute_result",
          "data": {
            "text/plain": [
              "['Application',\n",
              " 'InteractiveShell',\n",
              " '__author__',\n",
              " '__builtins__',\n",
              " '__cached__',\n",
              " '__doc__',\n",
              " '__file__',\n",
              " '__license__',\n",
              " '__loader__',\n",
              " '__name__',\n",
              " '__package__',\n",
              " '__path__',\n",
              " '__spec__',\n",
              " '__version__',\n",
              " 'absolute_import',\n",
              " 'core',\n",
              " 'display',\n",
              " 'embed',\n",
              " 'embed_kernel',\n",
              " 'extensions',\n",
              " 'extract_module_locals',\n",
              " 'get_ipython',\n",
              " 'lib',\n",
              " 'os',\n",
              " 'paths',\n",
              " 'release',\n",
              " 'start_ipython',\n",
              " 'start_kernel',\n",
              " 'sys',\n",
              " 'sys_info',\n",
              " 'terminal',\n",
              " 'test',\n",
              " 'testing',\n",
              " 'utils',\n",
              " 'version_info',\n",
              " 'warnings']"
            ]
          },
          "metadata": {
            "tags": []
          },
          "execution_count": 4
        }
      ]
    },
    {
      "cell_type": "code",
      "metadata": {
        "id": "Re-LLvVCRdEX",
        "colab_type": "code",
        "colab": {
          "base_uri": "https://localhost:8080/",
          "height": 791
        },
        "outputId": "aab0c0a3-1aa5-4455-ca73-facec1ba4dde"
      },
      "source": [
        "dir(IPython.display)"
      ],
      "execution_count": 5,
      "outputs": [
        {
          "output_type": "execute_result",
          "data": {
            "text/plain": [
              "['Audio',\n",
              " 'DisplayHandle',\n",
              " 'DisplayObject',\n",
              " 'FileLink',\n",
              " 'FileLinks',\n",
              " 'HTML',\n",
              " 'IFrame',\n",
              " 'Image',\n",
              " 'JSON',\n",
              " 'Javascript',\n",
              " 'Latex',\n",
              " 'Markdown',\n",
              " 'Math',\n",
              " 'Pretty',\n",
              " 'ProgressBar',\n",
              " 'SVG',\n",
              " 'ScribdDocument',\n",
              " 'TextDisplayObject',\n",
              " 'VimeoVideo',\n",
              " 'YouTubeVideo',\n",
              " '__builtins__',\n",
              " '__cached__',\n",
              " '__doc__',\n",
              " '__file__',\n",
              " '__loader__',\n",
              " '__name__',\n",
              " '__package__',\n",
              " '__spec__',\n",
              " 'clear_output',\n",
              " 'display',\n",
              " 'display_html',\n",
              " 'display_javascript',\n",
              " 'display_jpeg',\n",
              " 'display_json',\n",
              " 'display_latex',\n",
              " 'display_markdown',\n",
              " 'display_pdf',\n",
              " 'display_png',\n",
              " 'display_pretty',\n",
              " 'display_svg',\n",
              " 'publish_display_data',\n",
              " 'set_matplotlib_close',\n",
              " 'set_matplotlib_formats',\n",
              " 'update_display']"
            ]
          },
          "metadata": {
            "tags": []
          },
          "execution_count": 5
        }
      ]
    },
    {
      "cell_type": "code",
      "metadata": {
        "id": "scccmf5nRxT6",
        "colab_type": "code",
        "colab": {
          "base_uri": "https://localhost:8080/",
          "height": 319
        },
        "outputId": "fb39cc0a-2b92-4741-d393-20fd30c9eeec"
      },
      "source": [
        "IPython.display.YouTubeVideo('MqdncXPR0lY')"
      ],
      "execution_count": 12,
      "outputs": [
        {
          "output_type": "execute_result",
          "data": {
            "text/html": [
              "\n",
              "        <iframe\n",
              "            width=\"400\"\n",
              "            height=\"300\"\n",
              "            src=\"https://www.youtube.com/embed/MqdncXPR0lY\"\n",
              "            frameborder=\"0\"\n",
              "            allowfullscreen\n",
              "        ></iframe>\n",
              "        "
            ],
            "text/plain": [
              "<IPython.lib.display.YouTubeVideo at 0x7f512cc674a8>"
            ],
            "image/jpeg": "[encoded data removed]"
          },
          "metadata": {
            "tags": []
          },
          "execution_count": 12
        }
      ]
    },
    {
      "cell_type": "markdown",
      "metadata": {
        "id": "erIC11SzPybz",
        "colab_type": "text"
      },
      "source": [
        "# Folium\n",
        "- 위치기반 시각화 라이브러리"
      ]
    },
    {
      "cell_type": "code",
      "metadata": {
        "id": "nv3_G8nw_JLJ",
        "colab_type": "code",
        "colab": {}
      },
      "source": [
        "import folium"
      ],
      "execution_count": 0,
      "outputs": []
    },
    {
      "cell_type": "code",
      "metadata": {
        "id": "1UcCCC3hHDdK",
        "colab_type": "code",
        "colab": {
          "base_uri": "https://localhost:8080/",
          "height": 210
        },
        "outputId": "cfccbc92-c0df-4018-97e5-1c642caebca3"
      },
      "source": [
        "!pip install folium"
      ],
      "execution_count": 2,
      "outputs": [
        {
          "output_type": "stream",
          "text": [
            "Requirement already satisfied: folium in /usr/local/lib/python3.6/dist-packages (0.10.0)\n",
            "Requirement already satisfied: branca>=0.3.0 in /usr/local/lib/python3.6/dist-packages (from folium) (0.3.1)\n",
            "Requirement already satisfied: jinja2>=2.9 in /usr/local/lib/python3.6/dist-packages (from folium) (2.10.1)\n",
            "Requirement already satisfied: requests in /usr/local/lib/python3.6/dist-packages (from folium) (2.21.0)\n",
            "Requirement already satisfied: numpy in /usr/local/lib/python3.6/dist-packages (from folium) (1.16.4)\n",
            "Requirement already satisfied: six in /usr/local/lib/python3.6/dist-packages (from branca>=0.3.0->folium) (1.12.0)\n",
            "Requirement already satisfied: MarkupSafe>=0.23 in /usr/local/lib/python3.6/dist-packages (from jinja2>=2.9->folium) (1.1.1)\n",
            "Requirement already satisfied: certifi>=2017.4.17 in /usr/local/lib/python3.6/dist-packages (from requests->folium) (2019.6.16)\n",
            "Requirement already satisfied: chardet<3.1.0,>=3.0.2 in /usr/local/lib/python3.6/dist-packages (from requests->folium) (3.0.4)\n",
            "Requirement already satisfied: idna<2.9,>=2.5 in /usr/local/lib/python3.6/dist-packages (from requests->folium) (2.8)\n",
            "Requirement already satisfied: urllib3<1.25,>=1.21.1 in /usr/local/lib/python3.6/dist-packages (from requests->folium) (1.24.3)\n"
          ],
          "name": "stdout"
        }
      ]
    },
    {
      "cell_type": "code",
      "metadata": {
        "id": "tKPomwtdBVGA",
        "colab_type": "code",
        "colab": {
          "base_uri": "https://localhost:8080/",
          "height": 459
        },
        "outputId": "60e7d670-aba6-481f-f85a-355db6216021"
      },
      "source": [
        "# wget 은 리눅스 다운로드 명령어입니다.\n",
        "!wget -O geodata.zip https://www.dropbox.com/s/166p6t5y187ei3r/Geo%20Data.zip?dl=0"
      ],
      "execution_count": 1,
      "outputs": [
        {
          "output_type": "stream",
          "text": [
            "--2019-08-08 16:39:17--  https://www.dropbox.com/s/166p6t5y187ei3r/Geo%20Data.zip?dl=0\n",
            "Resolving www.dropbox.com (www.dropbox.com)... 162.125.1.1, 2620:100:6016:1::a27d:101\n",
            "Connecting to www.dropbox.com (www.dropbox.com)|162.125.1.1|:443... connected.\n",
            "HTTP request sent, awaiting response... 301 Moved Permanently\n",
            "Location: /s/raw/166p6t5y187ei3r/Geo%20Data.zip [following]\n",
            "--2019-08-08 16:39:17--  https://www.dropbox.com/s/raw/166p6t5y187ei3r/Geo%20Data.zip\n",
            "Reusing existing connection to www.dropbox.com:443.\n",
            "HTTP request sent, awaiting response... 302 Found\n",
            "Location: https://uc384643ebd8b661b98b87ca0c3a.dl.dropboxusercontent.com/cd/0/inline/AmMGKQL5B1dlEeQuKxTz0ZpZAPsDQWUb6TKZ8XtZGNMlTrggzyw5UfFrZZw1x0potq5nzhlYwyGeQkBA6FYgwWXG5oLhqkye6gvV2eYB-Bu1569Su6OGYam32mGuiYQEFng/file# [following]\n",
            "--2019-08-08 16:39:17--  https://uc384643ebd8b661b98b87ca0c3a.dl.dropboxusercontent.com/cd/0/inline/AmMGKQL5B1dlEeQuKxTz0ZpZAPsDQWUb6TKZ8XtZGNMlTrggzyw5UfFrZZw1x0potq5nzhlYwyGeQkBA6FYgwWXG5oLhqkye6gvV2eYB-Bu1569Su6OGYam32mGuiYQEFng/file\n",
            "Resolving uc384643ebd8b661b98b87ca0c3a.dl.dropboxusercontent.com (uc384643ebd8b661b98b87ca0c3a.dl.dropboxusercontent.com)... 162.125.1.6, 2620:100:6016:6::a27d:106\n",
            "Connecting to uc384643ebd8b661b98b87ca0c3a.dl.dropboxusercontent.com (uc384643ebd8b661b98b87ca0c3a.dl.dropboxusercontent.com)|162.125.1.6|:443... connected.\n",
            "HTTP request sent, awaiting response... 302 FOUND\n",
            "Location: /cd/0/inline2/AmMBC2gzkE8RYIimqHeZ8khUPoZ6oxhuYhbHtj23LDzr5ZZnPazr5n4i6H7tzMrHBi_kQeGWrbHz6DfotUqn9NeoiVNhehyDwRoUiMvbNJ3qfiOV1KjKIu15d1R4Qj3fBS6l86cvejvho0CbVlAOra1-aIs-S7vM0xFoagt6GnySrcYfaviX4SGQJx9lx3RYJZ9wkYpq5cU9JfiLRdmI77D7U6AbktGZHZATaPd50sUUcRd-LrnbuFeCyj2iCVe67tQIbLCac0vyrtRRyjJkM1uOQryGtj9Elwdoke05LSc1ccIzngRrODG3cPTaR_fk9PTuq0Lz3XbZHjhsee86tqztXESqXaTHwMlv8gJ5b_SeAQ/file [following]\n",
            "--2019-08-08 16:39:17--  https://uc384643ebd8b661b98b87ca0c3a.dl.dropboxusercontent.com/cd/0/inline2/AmMBC2gzkE8RYIimqHeZ8khUPoZ6oxhuYhbHtj23LDzr5ZZnPazr5n4i6H7tzMrHBi_kQeGWrbHz6DfotUqn9NeoiVNhehyDwRoUiMvbNJ3qfiOV1KjKIu15d1R4Qj3fBS6l86cvejvho0CbVlAOra1-aIs-S7vM0xFoagt6GnySrcYfaviX4SGQJx9lx3RYJZ9wkYpq5cU9JfiLRdmI77D7U6AbktGZHZATaPd50sUUcRd-LrnbuFeCyj2iCVe67tQIbLCac0vyrtRRyjJkM1uOQryGtj9Elwdoke05LSc1ccIzngRrODG3cPTaR_fk9PTuq0Lz3XbZHjhsee86tqztXESqXaTHwMlv8gJ5b_SeAQ/file\n",
            "Reusing existing connection to uc384643ebd8b661b98b87ca0c3a.dl.dropboxusercontent.com:443.\n",
            "HTTP request sent, awaiting response... 200 OK\n",
            "Length: 3015976 (2.9M) [application/zip]\n",
            "Saving to: ‘geodata.zip’\n",
            "\n",
            "geodata.zip         100%[===================>]   2.88M  --.-KB/s    in 0.05s   \n",
            "\n",
            "2019-08-08 16:39:18 (52.5 MB/s) - ‘geodata.zip’ saved [3015976/3015976]\n",
            "\n"
          ],
          "name": "stdout"
        }
      ]
    },
    {
      "cell_type": "code",
      "metadata": {
        "id": "qHodSw2o_CIO",
        "colab_type": "code",
        "colab": {
          "base_uri": "https://localhost:8080/",
          "height": 844
        },
        "outputId": "dc5445e1-7445-41bd-ff67-68862207a1d9"
      },
      "source": [
        "!unzip geodata.zip"
      ],
      "execution_count": 2,
      "outputs": [
        {
          "output_type": "stream",
          "text": [
            "Archive:  geodata.zip\n",
            "  inflating: .DS_Store               \n",
            "   creating: .ipynb_checkpoints/\n",
            "  inflating: .ipynb_checkpoints/Folium-checkpoint.ipynb  \n",
            "  inflating: .ipynb_checkpoints/geopandas-checkpoint.ipynb  \n",
            "  inflating: .ipynb_checkpoints/map, apply-checkpoint.ipynb  \n",
            "  inflating: .ipynb_checkpoints/Untitled-checkpoint.ipynb  \n",
            "  inflating: .ipynb_checkpoints/Untitled1-checkpoint.ipynb  \n",
            "   creating: asset/\n",
            "  inflating: asset/.DS_Store         \n",
            "  inflating: asset/seoul_geo_df.csv  \n",
            "  inflating: asset/seoul_municipalities_geo_simple.json  \n",
            "  inflating: asset/seoul_municipalities_topo_simple.json  \n",
            "   creating: asset/seoul_shp/\n",
            "  inflating: asset/seoul_shp/.DS_Store  \n",
            "   creating: asset/seoul_shp/original/\n",
            "  inflating: asset/seoul_shp/original/seoul_municipalities.dbf  \n",
            "  inflating: asset/seoul_shp/original/seoul_municipalities.prj  \n",
            "  inflating: asset/seoul_shp/original/seoul_municipalities.shp  \n",
            "  inflating: asset/seoul_shp/original/seoul_municipalities.shx  \n",
            "  inflating: asset/seoul_shp/original/seoul_submunicipalities.dbf  \n",
            "  inflating: asset/seoul_shp/original/seoul_submunicipalities.prj  \n",
            "  inflating: asset/seoul_shp/original/seoul_submunicipalities.shp  \n",
            "  inflating: asset/seoul_shp/original/seoul_submunicipalities.shx  \n",
            " extracting: asset/seoul_shp/seoul_municipalities.cpg  \n",
            "  inflating: asset/seoul_shp/seoul_municipalities.dbf  \n",
            "  inflating: asset/seoul_shp/seoul_municipalities.prj  \n",
            "  inflating: asset/seoul_shp/seoul_municipalities.qpj  \n",
            "  inflating: asset/seoul_shp/seoul_municipalities.shp  \n",
            "  inflating: asset/seoul_shp/seoul_municipalities.shx  \n",
            " extracting: asset/seoul_shp/seoul_submunicipalities.cpg  \n",
            "  inflating: asset/seoul_shp/seoul_submunicipalities.dbf  \n",
            "  inflating: asset/seoul_shp/seoul_submunicipalities.prj  \n",
            "  inflating: asset/seoul_shp/seoul_submunicipalities.qpj  \n",
            "  inflating: asset/seoul_shp/seoul_submunicipalities.shp  \n",
            "  inflating: asset/seoul_shp/seoul_submunicipalities.shx  \n",
            "  inflating: asset/vis1.json         \n",
            "  inflating: asset/vis2.json         \n",
            "  inflating: asset/vis3.json         \n",
            "  inflating: asset/vis4.json         \n",
            "  inflating: Folium.ipynb            \n",
            "  inflating: geopandas.ipynb         \n",
            "  inflating: map, apply.ipynb        \n",
            "  inflating: vis1.json               \n",
            "  inflating: vis2.json               \n",
            "  inflating: vis3.json               \n",
            "  inflating: vis4.json               \n"
          ],
          "name": "stdout"
        }
      ]
    },
    {
      "cell_type": "code",
      "metadata": {
        "id": "tn30Kal1P5lq",
        "colab_type": "code",
        "colab": {}
      },
      "source": [
        ""
      ],
      "execution_count": 0,
      "outputs": []
    }
  ]
}