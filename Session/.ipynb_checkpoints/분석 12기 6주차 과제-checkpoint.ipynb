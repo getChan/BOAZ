{
 "cells": [
  {
   "cell_type": "markdown",
   "metadata": {
    "colab_type": "text",
    "id": "LXHZY9eP_32G"
   },
   "source": [
    "## 0. Google Colab 사용하기"
   ]
  },
  {
   "cell_type": "markdown",
   "metadata": {},
   "source": [
    "안녕하세요 분석 11기 자료연구팀 김태희입니다\n",
    "늦어서 죄송합니다 6주차 과제 공지합니다\n",
    "1. 이번 과제는 Pytorch와 Colab에 익숙해지는 것이 목적입니다\n",
    "2. 모든 작업은 Colab에서 진행해주시고 Pytorch-A-to-Z의 내용은 1.0 버전에 맞춰서 수정했으니 꼭 손으로 직접 코딩해서 작성해주세요\n",
    "3. Regression과 Classification dataset을 받아서 최대한의 성능을 내보고 코드 리뷰 시간에 팀끼리 공유해주세요 정답은 없습니다\n",
    "4. 자료에 이상이 있거나 질문이 있으면 연락 부탁드립니다\n",
    "기한은 수요일 밤 12시까지입니다 과제 이외에도 파이토치에 익숙해지는 시간이었으면 좋겠습니다 좋은 주말 보내세요 :)"
   ]
  },
  {
   "cell_type": "markdown",
   "metadata": {
    "colab_type": "text",
    "id": "amsQv2HJ_80D"
   },
   "source": [
    "- Colab 사용법은 [변성윤 선배님의 블로그](https://zzsza.github.io/data/2018/08/30/google-colab/)를 참고해주세요.\n",
    "- 공식 홈페이지 [document](https://colab.research.google.com/notebooks/welcome.ipynb)도 좋습니다."
   ]
  },
  {
   "cell_type": "markdown",
   "metadata": {
    "colab_type": "text",
    "id": "RGXQFcG1B3nn"
   },
   "source": [
    "## 1. Pytorch 연습하기"
   ]
  },
  {
   "cell_type": "markdown",
   "metadata": {
    "colab_type": "text",
    "id": "dcDozxxCB6N2"
   },
   "source": [
    "- 먼저 [Pytorch-A-to-Z](https://github.com/shwksl101/Pytorch-A-to-Z) 에서 1~3까지 필사해서 밑에다가 써주세요.\n",
    "- 질문은 주석으로 달아놓고 코드 리뷰 시간에 이야기해보면 좋을 것 같습니다.\n",
    "- 오류가 있을 수 있으니 이상한 부분이 있으면 질문 부탁드립니다.\n",
    "\n",
    "(Optional)\n",
    "- 다음은 개인적으로 최윤제님의 [Pytorch tutorial](https://github.com/yunjey/pytorch-tutorial)을 추천드립니다.\n",
    "- GPU 사용법은 다음 [링크](https://pytorch.org/docs/stable/notes/cuda.html)를 참고해주세요."
   ]
  },
  {
   "cell_type": "code",
   "execution_count": 0,
   "metadata": {
    "colab": {},
    "colab_type": "code",
    "id": "m3f4v8Sc9Ywf"
   },
   "outputs": [],
   "source": []
  },
  {
   "cell_type": "markdown",
   "metadata": {
    "colab_type": "text",
    "id": "NWZuY8jj7e5s"
   },
   "source": [
    "## 2. Regression 연습하기\n",
    "\n",
    "- [house price](https://www.kaggle.com/c/house-prices-advanced-regression-techniques/data)에서 train data를 받아주세요\n",
    "- train/test set을 7:3 비율로 나누세요\n",
    "- Pytorch 라이브러리를 이용해 최대한의 성능을 내보세요\n",
    "- Metric은 RMSE를 사용해 계산해주세요"
   ]
  },
  {
   "cell_type": "code",
   "execution_count": 0,
   "metadata": {
    "colab": {},
    "colab_type": "code",
    "id": "9KmHO-NkwHLX"
   },
   "outputs": [],
   "source": [
    "import torch\n",
    "import torch.nn as nn\n",
    "import torch.optim as optim"
   ]
  },
  {
   "cell_type": "markdown",
   "metadata": {
    "colab_type": "text",
    "id": "4kokxhYQ84Hu"
   },
   "source": [
    "## 3. Classification 연습하기\n",
    "- [mushroom](https://www.kaggle.com/uciml/mushroom-classification)에서 data를 받아주세요\n",
    "- train/test set을 7:3 비율로 나누세요\n",
    "- Pytorch 라이브러리를 이용해 최대한의 성능을 내보세요\n",
    "- Metric은 accuracy을 사용해 계산해주세요"
   ]
  },
  {
   "cell_type": "code",
   "execution_count": 0,
   "metadata": {
    "colab": {},
    "colab_type": "code",
    "id": "M0UkMax_wJZ_"
   },
   "outputs": [],
   "source": [
    "import torch\n",
    "import torch.nn as nn\n",
    "import torch.optim as optim"
   ]
  },
  {
   "cell_type": "code",
   "execution_count": 0,
   "metadata": {
    "colab": {},
    "colab_type": "code",
    "id": "A1lI12yvAIac"
   },
   "outputs": [],
   "source": []
  }
 ],
 "metadata": {
  "accelerator": "GPU",
  "colab": {
   "name": "분석 12기 6주차 과제.ipynb",
   "provenance": [],
   "version": "0.3.2"
  },
  "kernelspec": {
   "display_name": "Python 3",
   "language": "python",
   "name": "python3"
  },
  "language_info": {
   "codemirror_mode": {
    "name": "ipython",
    "version": 3
   },
   "file_extension": ".py",
   "mimetype": "text/x-python",
   "name": "python",
   "nbconvert_exporter": "python",
   "pygments_lexer": "ipython3",
   "version": "3.6.7"
  }
 },
 "nbformat": 4,
 "nbformat_minor": 1
}
