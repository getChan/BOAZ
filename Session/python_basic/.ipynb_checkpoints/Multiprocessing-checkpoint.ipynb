{
 "cells": [
  {
   "cell_type": "code",
   "execution_count": 1,
   "metadata": {},
   "outputs": [],
   "source": [
    "from multiprocessing import Pool, cpu_count"
   ]
  },
  {
   "cell_type": "code",
   "execution_count": 8,
   "metadata": {},
   "outputs": [],
   "source": [
    "num_cores = cpu_count()-1"
   ]
  },
  {
   "cell_type": "code",
   "execution_count": 10,
   "metadata": {},
   "outputs": [],
   "source": [
    "def parallelize_dataframe(df, func):\n",
    "    df_split = np.array_split(df, num_cores) # 갯수만큼 나눔\n",
    "    pool = Pool(processes=num_cores) # 갯수를정함\n",
    "    df = pd.concat(pool.map(func, df_split)) # 각각 할당 \n",
    "    pool.close()\n",
    "    pool.join()\n",
    "    return df\n",
    "def func(data):\n",
    "    print(\"working process\" ,data)\n",
    "    df['c2']  = df['c1'].map(lambda x : x+1)\n",
    "    df['c3']  = df.apply(lambda x : apply_func(df['c1'],df['c2']))\n",
    "    df['c4'] = df[['c1','c2']].apply(lambda x: apply_func(x[0], x[1]))\n",
    "    return data\n",
    "if __name__ == '__main__':\n",
    "    start_time = time.time() \n",
    "    train_data_soc_fill_na=parallelize_dataframe(df, func)\n",
    "    end_time = time.time()"
   ]
  },
  {
   "cell_type": "code",
   "execution_count": null,
   "metadata": {},
   "outputs": [],
   "source": []
  }
 ],
 "metadata": {
  "kernelspec": {
   "display_name": "Python 3",
   "language": "python",
   "name": "python3"
  },
  "language_info": {
   "codemirror_mode": {
    "name": "ipython",
    "version": 3
   },
   "file_extension": ".py",
   "mimetype": "text/x-python",
   "name": "python",
   "nbconvert_exporter": "python",
   "pygments_lexer": "ipython3",
   "version": "3.6.7"
  }
 },
 "nbformat": 4,
 "nbformat_minor": 2
}
